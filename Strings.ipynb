{
 "cells": [
  {
   "cell_type": "code",
   "execution_count": 12,
   "id": "2d77c79a",
   "metadata": {},
   "outputs": [
    {
     "name": "stdout",
     "output_type": "stream",
     "text": [
      "abcdefgh\n"
     ]
    }
   ],
   "source": [
    "alphabets = \"abcdefgh\"\n",
    "print(fruit)"
   ]
  },
  {
   "cell_type": "code",
   "execution_count": 5,
   "id": "9037a376",
   "metadata": {},
   "outputs": [
    {
     "data": {
      "text/plain": [
       "'a'"
      ]
     },
     "execution_count": 5,
     "metadata": {},
     "output_type": "execute_result"
    }
   ],
   "source": [
    "fruit[0]"
   ]
  },
  {
   "cell_type": "code",
   "execution_count": 6,
   "id": "eb7aacc8",
   "metadata": {},
   "outputs": [
    {
     "data": {
      "text/plain": [
       "'h'"
      ]
     },
     "execution_count": 6,
     "metadata": {},
     "output_type": "execute_result"
    }
   ],
   "source": [
    "fruit[-1]"
   ]
  },
  {
   "cell_type": "code",
   "execution_count": 7,
   "id": "779e39f9",
   "metadata": {},
   "outputs": [
    {
     "data": {
      "text/plain": [
       "'g'"
      ]
     },
     "execution_count": 7,
     "metadata": {},
     "output_type": "execute_result"
    }
   ],
   "source": [
    "fruit[-2]"
   ]
  },
  {
   "cell_type": "code",
   "execution_count": 8,
   "id": "5de9fc28",
   "metadata": {},
   "outputs": [
    {
     "data": {
      "text/plain": [
       "'abcd'"
      ]
     },
     "execution_count": 8,
     "metadata": {},
     "output_type": "execute_result"
    }
   ],
   "source": [
    "fruit[0:4]"
   ]
  },
  {
   "cell_type": "markdown",
   "id": "54f17112",
   "metadata": {},
   "source": [
    "abcdefgh\n",
    "\n",
    "01234567"
   ]
  },
  {
   "cell_type": "code",
   "execution_count": 9,
   "id": "5f506222",
   "metadata": {},
   "outputs": [
    {
     "data": {
      "text/plain": [
       "'cb'"
      ]
     },
     "execution_count": 9,
     "metadata": {},
     "output_type": "execute_result"
    }
   ],
   "source": [
    "fruit[2:0:-1]"
   ]
  },
  {
   "cell_type": "code",
   "execution_count": 10,
   "id": "216eeeb0",
   "metadata": {},
   "outputs": [
    {
     "data": {
      "text/plain": [
       "'cde'"
      ]
     },
     "execution_count": 10,
     "metadata": {},
     "output_type": "execute_result"
    }
   ],
   "source": [
    "fruit[2:5] # indices considered are "
   ]
  },
  {
   "cell_type": "code",
   "execution_count": 11,
   "id": "e6bec7d4",
   "metadata": {},
   "outputs": [
    {
     "name": "stdout",
     "output_type": "stream",
     "text": [
      "abcdefgh\n"
     ]
    }
   ],
   "source": [
    "print(fruit)"
   ]
  },
  {
   "cell_type": "code",
   "execution_count": 13,
   "id": "b896c62e",
   "metadata": {},
   "outputs": [
    {
     "name": "stdout",
     "output_type": "stream",
     "text": [
      "abcdefgh\n"
     ]
    }
   ],
   "source": [
    "alpha = \"abcdefgh\"\n",
    "print(alpha)"
   ]
  },
  {
   "cell_type": "code",
   "execution_count": 14,
   "id": "afe12520",
   "metadata": {},
   "outputs": [
    {
     "data": {
      "text/plain": [
       "8"
      ]
     },
     "execution_count": 14,
     "metadata": {},
     "output_type": "execute_result"
    }
   ],
   "source": [
    "len(alpha)"
   ]
  },
  {
   "cell_type": "markdown",
   "id": "ecba8f19",
   "metadata": {},
   "source": [
    "Indices will be considered from 0,1,2,...,7"
   ]
  },
  {
   "cell_type": "code",
   "execution_count": 15,
   "id": "93201bb0",
   "metadata": {},
   "outputs": [
    {
     "data": {
      "text/plain": [
       "'h'"
      ]
     },
     "execution_count": 15,
     "metadata": {},
     "output_type": "execute_result"
    }
   ],
   "source": [
    "alpha[7]"
   ]
  },
  {
   "cell_type": "code",
   "execution_count": 16,
   "id": "fc9316ff",
   "metadata": {},
   "outputs": [
    {
     "data": {
      "text/plain": [
       "'h'"
      ]
     },
     "execution_count": 16,
     "metadata": {},
     "output_type": "execute_result"
    }
   ],
   "source": [
    "alpha[-1]"
   ]
  },
  {
   "cell_type": "markdown",
   "id": "bce00f84",
   "metadata": {},
   "source": [
    "alpha[start:stop:step] # "
   ]
  },
  {
   "cell_type": "code",
   "execution_count": 17,
   "id": "423265d1",
   "metadata": {},
   "outputs": [
    {
     "data": {
      "text/plain": [
       "'ce'"
      ]
     },
     "execution_count": 17,
     "metadata": {},
     "output_type": "execute_result"
    }
   ],
   "source": [
    "alpha[2:5:2] # It will consider indices 2,4"
   ]
  },
  {
   "cell_type": "code",
   "execution_count": 18,
   "id": "f541a546",
   "metadata": {},
   "outputs": [
    {
     "data": {
      "text/plain": [
       "'hgfedcb'"
      ]
     },
     "execution_count": 18,
     "metadata": {},
     "output_type": "execute_result"
    }
   ],
   "source": [
    "alpha[len(alpha):0:-1]"
   ]
  },
  {
   "cell_type": "code",
   "execution_count": 19,
   "id": "d2159315",
   "metadata": {},
   "outputs": [
    {
     "data": {
      "text/plain": [
       "'abc'"
      ]
     },
     "execution_count": 19,
     "metadata": {},
     "output_type": "execute_result"
    }
   ],
   "source": [
    "alpha[:3]"
   ]
  },
  {
   "cell_type": "code",
   "execution_count": 20,
   "id": "852a75a8",
   "metadata": {},
   "outputs": [
    {
     "data": {
      "text/plain": [
       "'defgh'"
      ]
     },
     "execution_count": 20,
     "metadata": {},
     "output_type": "execute_result"
    }
   ],
   "source": [
    "alpha[3:]"
   ]
  },
  {
   "cell_type": "code",
   "execution_count": 21,
   "id": "1b9677d6",
   "metadata": {},
   "outputs": [
    {
     "data": {
      "text/plain": [
       "'abcdefgh'"
      ]
     },
     "execution_count": 21,
     "metadata": {},
     "output_type": "execute_result"
    }
   ],
   "source": [
    "alpha[0:]"
   ]
  },
  {
   "cell_type": "code",
   "execution_count": 22,
   "id": "33a35f18",
   "metadata": {},
   "outputs": [
    {
     "data": {
      "text/plain": [
       "'hgfedcba'"
      ]
     },
     "execution_count": 22,
     "metadata": {},
     "output_type": "execute_result"
    }
   ],
   "source": [
    "alpha[7::-1]"
   ]
  },
  {
   "cell_type": "code",
   "execution_count": 24,
   "id": "cb557e20",
   "metadata": {},
   "outputs": [
    {
     "data": {
      "text/plain": [
       "'hgfedcba'"
      ]
     },
     "execution_count": 24,
     "metadata": {},
     "output_type": "execute_result"
    }
   ],
   "source": [
    "alpha[-1::-1]"
   ]
  },
  {
   "cell_type": "code",
   "execution_count": null,
   "id": "aabcbac6",
   "metadata": {},
   "outputs": [],
   "source": [
    "##\n",
    "## Length of a string is given by len(<string>)\n",
    "## Access the characters in a string using slicing method str[start:stop:step]\n",
    "##"
   ]
  },
  {
   "cell_type": "code",
   "execution_count": 25,
   "id": "91bd7218",
   "metadata": {},
   "outputs": [
    {
     "name": "stdout",
     "output_type": "stream",
     "text": [
      "najamsheikh\n"
     ]
    }
   ],
   "source": [
    "first = \"najam\"\n",
    "last  = \"sheikh\"\n",
    "\n",
    "name = first + last\n",
    "print(name)"
   ]
  },
  {
   "cell_type": "code",
   "execution_count": 26,
   "id": "5e2ef4f3",
   "metadata": {},
   "outputs": [
    {
     "name": "stdout",
     "output_type": "stream",
     "text": [
      "najamnajamnajam\n"
     ]
    }
   ],
   "source": [
    "print(first*3)"
   ]
  },
  {
   "cell_type": "code",
   "execution_count": 28,
   "id": "c327b0a9",
   "metadata": {},
   "outputs": [
    {
     "name": "stdout",
     "output_type": "stream",
     "text": [
      "najam sheikh\n"
     ]
    }
   ],
   "source": [
    "##\n",
    "## \"+\" operator concatenates the strings\n",
    "## \"*\" operator repeats the string as many times asked\n",
    "##\n",
    "\n",
    "first = \"najam\"\n",
    "last  = \"sheikh\"\n",
    "\n",
    "name = first + \" \" + last\n",
    "print(name)\n"
   ]
  },
  {
   "cell_type": "code",
   "execution_count": 29,
   "id": "036f53d6",
   "metadata": {},
   "outputs": [
    {
     "data": {
      "text/plain": [
       "'hkiehs majan'"
      ]
     },
     "execution_count": 29,
     "metadata": {},
     "output_type": "execute_result"
    }
   ],
   "source": [
    "## Write the name in the reverse direction\n",
    "\n",
    "name[-1::-1]"
   ]
  },
  {
   "cell_type": "code",
   "execution_count": 30,
   "id": "355b7024",
   "metadata": {},
   "outputs": [
    {
     "ename": "TypeError",
     "evalue": "object of type 'int' has no len()",
     "output_type": "error",
     "traceback": [
      "\u001b[0;31m---------------------------------------------------------------------------\u001b[0m",
      "\u001b[0;31mTypeError\u001b[0m                                 Traceback (most recent call last)",
      "\u001b[0;32m/tmp/ipykernel_860/4244307249.py\u001b[0m in \u001b[0;36m<module>\u001b[0;34m\u001b[0m\n\u001b[1;32m      1\u001b[0m \u001b[0mname\u001b[0m \u001b[0;34m=\u001b[0m\u001b[0;34m\"najam\"\u001b[0m\u001b[0;34m\u001b[0m\u001b[0;34m\u001b[0m\u001b[0m\n\u001b[0;32m----> 2\u001b[0;31m \u001b[0mlen\u001b[0m\u001b[0;34m(\u001b[0m\u001b[0;36m10\u001b[0m\u001b[0;34m)\u001b[0m\u001b[0;34m\u001b[0m\u001b[0;34m\u001b[0m\u001b[0m\n\u001b[0m",
      "\u001b[0;31mTypeError\u001b[0m: object of type 'int' has no len()"
     ]
    }
   ],
   "source": [
    "name =\"najam\"\n",
    "len(10)"
   ]
  },
  {
   "cell_type": "code",
   "execution_count": 32,
   "id": "fd97df99",
   "metadata": {},
   "outputs": [
    {
     "name": "stdout",
     "output_type": "stream",
     "text": [
      "Enter your name: ahmed\n",
      "demha\n"
     ]
    }
   ],
   "source": [
    "name = input(\"Enter your name: \")\n",
    "rev_name = name[len(name)::-1]\n",
    "print(rev_name)"
   ]
  },
  {
   "cell_type": "code",
   "execution_count": 43,
   "id": "284bf8ef",
   "metadata": {},
   "outputs": [
    {
     "name": "stdout",
     "output_type": "stream",
     "text": [
      "u5z5a5i5r5"
     ]
    }
   ],
   "source": [
    "name = \"uzair\"   #0,1,2,3\n",
    "count = 0\n",
    "while count < len(name):\n",
    "    print(name[count],end = \"5\")\n",
    "    count = count + 1   ## count = count + 1"
   ]
  },
  {
   "cell_type": "markdown",
   "id": "18c2b4c7",
   "metadata": {},
   "source": [
    "alpha[start:stop:step]"
   ]
  },
  {
   "cell_type": "code",
   "execution_count": 44,
   "id": "5338aa2b",
   "metadata": {},
   "outputs": [
    {
     "name": "stdout",
     "output_type": "stream",
     "text": [
      "26\n"
     ]
    }
   ],
   "source": [
    "alphabets = \"abcdefghijklmnopqrstuvwxyz\"\n",
    "print(len(alphabets))"
   ]
  },
  {
   "cell_type": "code",
   "execution_count": 46,
   "id": "444e1a65",
   "metadata": {},
   "outputs": [
    {
     "name": "stdout",
     "output_type": "stream",
     "text": [
      "bcdeuvwxfghij\n"
     ]
    }
   ],
   "source": [
    "print(alphabets[1:5]+alphabets[20:24]+alphabets[5:10])"
   ]
  },
  {
   "cell_type": "code",
   "execution_count": 47,
   "id": "ccc78ef0",
   "metadata": {},
   "outputs": [
    {
     "name": "stdout",
     "output_type": "stream",
     "text": [
      "fayaz\n"
     ]
    }
   ],
   "source": [
    "name = \"fayaz mohammad\"\n",
    "\n",
    "first_name = name[0:5]\n",
    "print(first_name)"
   ]
  },
  {
   "cell_type": "code",
   "execution_count": 52,
   "id": "3cea7ab2",
   "metadata": {},
   "outputs": [
    {
     "name": "stdout",
     "output_type": "stream",
     "text": [
      "mohammad\n"
     ]
    }
   ],
   "source": [
    "last_name = name[-8:]\n",
    "print(last_name)"
   ]
  },
  {
   "cell_type": "markdown",
   "id": "4ca48161",
   "metadata": {},
   "source": [
    "string[start:stop:step] # Syntax of slicing\n",
    "\n",
    "Always remember that indexing starts from 0 forward and starts from -1 backwards"
   ]
  },
  {
   "cell_type": "code",
   "execution_count": 53,
   "id": "92bfc1a0",
   "metadata": {},
   "outputs": [
    {
     "data": {
      "text/plain": [
       "'fayaz'"
      ]
     },
     "execution_count": 53,
     "metadata": {},
     "output_type": "execute_result"
    }
   ],
   "source": [
    "name = \"fayaz mohammad\"\n",
    "\n",
    "name[:5]"
   ]
  },
  {
   "cell_type": "code",
   "execution_count": 56,
   "id": "94c8467b",
   "metadata": {},
   "outputs": [
    {
     "name": "stdout",
     "output_type": "stream",
     "text": [
      "fayaz\n"
     ]
    }
   ],
   "source": [
    "first_name = name[0:5]\n",
    "print(first_name)"
   ]
  },
  {
   "cell_type": "code",
   "execution_count": 60,
   "id": "663e3af4",
   "metadata": {},
   "outputs": [
    {
     "name": "stdout",
     "output_type": "stream",
     "text": [
      "moha\n"
     ]
    }
   ],
   "source": [
    "last_name = name[6:10]   #6:10 means 6,7,8,9 and excludes 10\n",
    "print(last_name)"
   ]
  },
  {
   "cell_type": "code",
   "execution_count": 62,
   "id": "3ec5be9e",
   "metadata": {},
   "outputs": [
    {
     "name": "stdout",
     "output_type": "stream",
     "text": [
      "fayaz moha\n"
     ]
    }
   ],
   "source": [
    "first_name = name[:10]\n",
    "print(first_name)"
   ]
  },
  {
   "cell_type": "code",
   "execution_count": 63,
   "id": "597bce3a",
   "metadata": {},
   "outputs": [
    {
     "name": "stdout",
     "output_type": "stream",
     "text": [
      "14\n"
     ]
    }
   ],
   "source": [
    "len_name = len(name)\n",
    "print(len_name)"
   ]
  },
  {
   "cell_type": "code",
   "execution_count": 65,
   "id": "b2ea3d4e",
   "metadata": {},
   "outputs": [
    {
     "name": "stdout",
     "output_type": "stream",
     "text": [
      "mmad\n"
     ]
    }
   ],
   "source": [
    "# The length of string is 14, means, the indices vary from 0 to 13\n",
    "print(name[len_name-4:])"
   ]
  },
  {
   "cell_type": "code",
   "execution_count": null,
   "id": "caa94089",
   "metadata": {},
   "outputs": [],
   "source": [
    "name = \"fayaz mohammad\"\n",
    "\n",
    "first_name = name[0:5]\n",
    "print(first_name)\n",
    "\n",
    "last_name = name[6:10]   #6:10 means 6,7,8,9 and excludes 10\n",
    "print(last_name)"
   ]
  },
  {
   "cell_type": "code",
   "execution_count": 68,
   "id": "6d1f22dc",
   "metadata": {},
   "outputs": [
    {
     "name": "stdout",
     "output_type": "stream",
     "text": [
      "ad\n"
     ]
    }
   ],
   "source": [
    "name = \"fayaz mohammad\"\n",
    "\n",
    "print(name[-2:])"
   ]
  },
  {
   "cell_type": "code",
   "execution_count": 69,
   "id": "659db2c4",
   "metadata": {},
   "outputs": [
    {
     "name": "stdout",
     "output_type": "stream",
     "text": [
      "fayaz mohammad\n"
     ]
    }
   ],
   "source": [
    "name = \"fayaz mohammad\"\n",
    "\n",
    "print(name)"
   ]
  },
  {
   "cell_type": "code",
   "execution_count": 70,
   "id": "39e5346a",
   "metadata": {},
   "outputs": [
    {
     "name": "stdout",
     "output_type": "stream",
     "text": [
      "fayaz\n"
     ]
    }
   ],
   "source": [
    "first = name[0:5]\n",
    "print(first)"
   ]
  },
  {
   "cell_type": "code",
   "execution_count": 71,
   "id": "5daaa65d",
   "metadata": {},
   "outputs": [
    {
     "name": "stdout",
     "output_type": "stream",
     "text": [
      "mohammad\n"
     ]
    }
   ],
   "source": [
    "last = name[6:]\n",
    "print(last)"
   ]
  },
  {
   "cell_type": "code",
   "execution_count": 72,
   "id": "92212cd5",
   "metadata": {},
   "outputs": [
    {
     "name": "stdout",
     "output_type": "stream",
     "text": [
      "fayaz mohammad\n"
     ]
    }
   ],
   "source": [
    "print(name)"
   ]
  },
  {
   "cell_type": "code",
   "execution_count": 75,
   "id": "93ad307e",
   "metadata": {},
   "outputs": [
    {
     "name": "stdout",
     "output_type": "stream",
     "text": [
      "fayaz\n"
     ]
    }
   ],
   "source": [
    "first = name[:-9]\n",
    "print(first)"
   ]
  },
  {
   "cell_type": "code",
   "execution_count": 77,
   "id": "095dcbcf",
   "metadata": {},
   "outputs": [
    {
     "name": "stdout",
     "output_type": "stream",
     "text": [
      "mohammad\n"
     ]
    }
   ],
   "source": [
    "last = name[-8:]\n",
    "print(last)"
   ]
  },
  {
   "cell_type": "code",
   "execution_count": 78,
   "id": "c2c3896d",
   "metadata": {},
   "outputs": [
    {
     "name": "stdout",
     "output_type": "stream",
     "text": [
      "Enter the file name: excel.xlsx\n",
      "The extension of your file is  xlsx\n"
     ]
    }
   ],
   "source": [
    "# Write a Python program to accept a filename from the user and print the extension of that\n",
    "\n",
    "filename = input(\"Enter the file name: \")\n",
    "\n",
    "extension = filename[-4:]\n",
    "print(\"The extension of your file is \",extension)"
   ]
  },
  {
   "cell_type": "code",
   "execution_count": 83,
   "id": "7c6a1c71",
   "metadata": {},
   "outputs": [
    {
     "name": "stdout",
     "output_type": "stream",
     "text": [
      "Enter your string: on\n"
     ]
    }
   ],
   "source": [
    "##\n",
    "## Write a Python program to get a string made of the first 2 and the last 2 chars from a given a string. \n",
    "## If the string length is less than 2, return instead of the empty string.\n",
    "##\n",
    "\n",
    "strr = input(\"Enter your string: \")\n",
    "first = strr[:2]\n",
    "last = strr[-2:]\n",
    "new_str = first + last\n",
    "if len(strr) > 2:\n",
    "    print(new_str)\n",
    "else:\n",
    "    pass"
   ]
  },
  {
   "cell_type": "code",
   "execution_count": 84,
   "id": "d3ca1d65",
   "metadata": {},
   "outputs": [
    {
     "name": "stdout",
     "output_type": "stream",
     "text": [
      "Enter your file name: variables.docx\n",
      "The extension of the file name is  docx\n"
     ]
    }
   ],
   "source": [
    "# Write a Python program to accept a filename from the user and print the extension of that\n",
    "\n",
    "filename = input(\"Enter your file name: \")\n",
    "extn = filename[-4:]\n",
    "print(\"The extension of the file name is \",extn)\n"
   ]
  },
  {
   "cell_type": "code",
   "execution_count": null,
   "id": "9842015f",
   "metadata": {},
   "outputs": [],
   "source": [
    "## Extension of a filename is given by last 3 or 4 characters\n",
    "## filename.docx\n",
    "## filename.xlsx\n",
    "## filename.jpeg/jpg\n"
   ]
  },
  {
   "cell_type": "code",
   "execution_count": 85,
   "id": "c177a026",
   "metadata": {},
   "outputs": [
    {
     "name": "stdout",
     "output_type": "stream",
     "text": [
      "Enter a stringI am a good boy\n",
      "The length of string is  15\n"
     ]
    }
   ],
   "source": [
    "## Write a Python program to count the number of characters (character frequency) in a string.\n",
    "strr = input(\"Enter a string\")\n",
    "length = len(strr)\n",
    "print(\"The length of string is \",length)"
   ]
  },
  {
   "cell_type": "code",
   "execution_count": 88,
   "id": "1c9287d5",
   "metadata": {},
   "outputs": [
    {
     "name": "stdout",
     "output_type": "stream",
     "text": [
      "Enter your string: baby banana\n",
      "$a$y $anana"
     ]
    }
   ],
   "source": [
    "## Write a Python program to get a string from a given string where all \n",
    "## occurrences of its first char have been changed to '$', \n",
    "## except the first char itself\n",
    "## Sample String : 'restart'\n",
    "## Expected Result : 'resta$t'\n",
    "\n",
    "string = input(\"Enter your string: \")\n",
    "first_chr = string[0]\n",
    "len_string = len(string)\n",
    "\n",
    "for i in string:\n",
    "    if i == first_chr:\n",
    "        print(\"$\",end=\"\")\n",
    "    else:\n",
    "        print(i,end=\"\")\n"
   ]
  },
  {
   "cell_type": "code",
   "execution_count": null,
   "id": "fbacf7ef",
   "metadata": {},
   "outputs": [],
   "source": [
    "##\n",
    "## Write a Python program to accept a filename from the user and print the extension of that\n",
    "## MS Word file \"attendence.docx\"\n",
    "## MS Excel file \"attendence.xlsx\"\n",
    "## MS Paint file \"attendence.jpeg\"\n",
    "## example: filename = attendence.docx\n",
    "## you will print \"docx\"\n",
    "##\n",
    "\n",
    "filename = input(\"Enter your file name: \")\n",
    "extn = filename[-4:]\n",
    "print(\"The extension of the file name is \",extn)"
   ]
  },
  {
   "cell_type": "code",
   "execution_count": 1,
   "id": "b924baa1",
   "metadata": {},
   "outputs": [
    {
     "name": "stdout",
     "output_type": "stream",
     "text": [
      "Enter the file name: attendence.docx\n",
      "docx\n"
     ]
    }
   ],
   "source": [
    "fname = input(\"Enter the file name: \")\n",
    "extn = fname[-4:]\n",
    "print(extn)"
   ]
  },
  {
   "cell_type": "code",
   "execution_count": 2,
   "id": "4a434ea4",
   "metadata": {},
   "outputs": [
    {
     "name": "stdout",
     "output_type": "stream",
     "text": [
      "Enter the file name: pythonbasics.xlsx\n",
      "xlsx\n"
     ]
    }
   ],
   "source": [
    "##\n",
    "## Program to extract the extension of a file name\n",
    "##\n",
    "filename = input(\"Enter the file name: \")\n",
    "extn = filename[-4:]\n",
    "print(extn)"
   ]
  },
  {
   "cell_type": "code",
   "execution_count": 3,
   "id": "21d8bfe4",
   "metadata": {},
   "outputs": [
    {
     "name": "stdout",
     "output_type": "stream",
     "text": [
      "Enter the file name: pythonbasics.xlsx\n",
      "pythonbasics.xlsx\n",
      "The length of the string is  17\n"
     ]
    }
   ],
   "source": [
    "filename = input(\"Enter the file name: \")\n",
    "print(filename)\n",
    "length_str = len(filename)\n",
    "print(\"The length of the string is \",length_str)"
   ]
  },
  {
   "cell_type": "code",
   "execution_count": null,
   "id": "0e0b2096",
   "metadata": {},
   "outputs": [],
   "source": []
  }
 ],
 "metadata": {
  "kernelspec": {
   "display_name": "Python 3",
   "language": "python",
   "name": "python3"
  },
  "language_info": {
   "codemirror_mode": {
    "name": "ipython",
    "version": 3
   },
   "file_extension": ".py",
   "mimetype": "text/x-python",
   "name": "python",
   "nbconvert_exporter": "python",
   "pygments_lexer": "ipython3",
   "version": "3.8.8"
  }
 },
 "nbformat": 4,
 "nbformat_minor": 5
}
