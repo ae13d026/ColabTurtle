{
 "cells": [
  {
   "cell_type": "code",
   "execution_count": 1,
   "id": "7b1203d4",
   "metadata": {},
   "outputs": [
    {
     "name": "stdout",
     "output_type": "stream",
     "text": [
      "Requirement already satisfied: ColabTurtle in c:\\users\\najam\\anaconda3\\lib\\site-packages (2.1.0)\n"
     ]
    }
   ],
   "source": [
    "!pip install ColabTurtle\n",
    "from ColabTurtle.Turtle import *"
   ]
  },
  {
   "cell_type": "code",
   "execution_count": 2,
   "id": "f67f274f",
   "metadata": {},
   "outputs": [
    {
     "data": {
      "text/html": [
       "\n",
       "      <svg width=\"800\" height=\"500\">\n",
       "        <rect width=\"100%\" height=\"100%\" fill=\"lightgreen\"/>\n",
       "        <line x1=\"400\" y1=\"250\" x2=\"400.0\" y2=\"50.0\" stroke-linecap=\"round\" style=\"stroke:blue;stroke-width:4\"/><line x1=\"400.0\" y1=\"50.0\" x2=\"205.0\" y2=\"50.0\" stroke-linecap=\"round\" style=\"stroke:blue;stroke-width:4\"/><line x1=\"205.0\" y1=\"50.0\" x2=\"205.0\" y2=\"240.0\" stroke-linecap=\"round\" style=\"stroke:blue;stroke-width:4\"/><line x1=\"205.0\" y1=\"240.0\" x2=\"390.0\" y2=\"240.0\" stroke-linecap=\"round\" style=\"stroke:blue;stroke-width:4\"/><line x1=\"390.0\" y1=\"240.0\" x2=\"390.0\" y2=\"60.0\" stroke-linecap=\"round\" style=\"stroke:blue;stroke-width:4\"/><line x1=\"390.0\" y1=\"60.0\" x2=\"215.0\" y2=\"60.0\" stroke-linecap=\"round\" style=\"stroke:blue;stroke-width:4\"/><line x1=\"215.0\" y1=\"60.0\" x2=\"215.0\" y2=\"230.0\" stroke-linecap=\"round\" style=\"stroke:blue;stroke-width:4\"/><line x1=\"215.0\" y1=\"230.0\" x2=\"380.0\" y2=\"230.0\" stroke-linecap=\"round\" style=\"stroke:blue;stroke-width:4\"/><line x1=\"380.0\" y1=\"230.0\" x2=\"380.0\" y2=\"70.0\" stroke-linecap=\"round\" style=\"stroke:blue;stroke-width:4\"/><line x1=\"380.0\" y1=\"70.0\" x2=\"225.0\" y2=\"70.0\" stroke-linecap=\"round\" style=\"stroke:blue;stroke-width:4\"/><line x1=\"225.0\" y1=\"70.0\" x2=\"225.0\" y2=\"220.0\" stroke-linecap=\"round\" style=\"stroke:blue;stroke-width:4\"/><line x1=\"225.0\" y1=\"220.0\" x2=\"370.0\" y2=\"220.0\" stroke-linecap=\"round\" style=\"stroke:blue;stroke-width:4\"/><line x1=\"370.0\" y1=\"220.0\" x2=\"370.0\" y2=\"80.0\" stroke-linecap=\"round\" style=\"stroke:blue;stroke-width:4\"/><line x1=\"370.0\" y1=\"80.0\" x2=\"235.0\" y2=\"80.0\" stroke-linecap=\"round\" style=\"stroke:blue;stroke-width:4\"/><line x1=\"235.0\" y1=\"80.0\" x2=\"235.0\" y2=\"210.0\" stroke-linecap=\"round\" style=\"stroke:blue;stroke-width:4\"/><line x1=\"235.0\" y1=\"210.0\" x2=\"360.0\" y2=\"210.0\" stroke-linecap=\"round\" style=\"stroke:blue;stroke-width:4\"/><line x1=\"360.0\" y1=\"210.0\" x2=\"360.0\" y2=\"90.0\" stroke-linecap=\"round\" style=\"stroke:blue;stroke-width:4\"/><line x1=\"360.0\" y1=\"90.0\" x2=\"245.0\" y2=\"90.0\" stroke-linecap=\"round\" style=\"stroke:blue;stroke-width:4\"/><line x1=\"245.0\" y1=\"90.0\" x2=\"245.0\" y2=\"200.0\" stroke-linecap=\"round\" style=\"stroke:blue;stroke-width:4\"/><line x1=\"245.0\" y1=\"200.0\" x2=\"350.0\" y2=\"200.0\" stroke-linecap=\"round\" style=\"stroke:blue;stroke-width:4\"/><line x1=\"350.0\" y1=\"200.0\" x2=\"350.0\" y2=\"100.0\" stroke-linecap=\"round\" style=\"stroke:blue;stroke-width:4\"/><line x1=\"350.0\" y1=\"100.0\" x2=\"255.0\" y2=\"100.0\" stroke-linecap=\"round\" style=\"stroke:blue;stroke-width:4\"/><line x1=\"255.0\" y1=\"100.0\" x2=\"255.0\" y2=\"190.0\" stroke-linecap=\"round\" style=\"stroke:blue;stroke-width:4\"/><line x1=\"255.0\" y1=\"190.0\" x2=\"340.0\" y2=\"190.0\" stroke-linecap=\"round\" style=\"stroke:blue;stroke-width:4\"/><line x1=\"340.0\" y1=\"190.0\" x2=\"340.0\" y2=\"110.0\" stroke-linecap=\"round\" style=\"stroke:blue;stroke-width:4\"/><line x1=\"340.0\" y1=\"110.0\" x2=\"265.0\" y2=\"110.0\" stroke-linecap=\"round\" style=\"stroke:blue;stroke-width:4\"/><line x1=\"265.0\" y1=\"110.0\" x2=\"265.0\" y2=\"180.0\" stroke-linecap=\"round\" style=\"stroke:blue;stroke-width:4\"/><line x1=\"265.0\" y1=\"180.0\" x2=\"330.0\" y2=\"180.0\" stroke-linecap=\"round\" style=\"stroke:blue;stroke-width:4\"/><line x1=\"330.0\" y1=\"180.0\" x2=\"330.0\" y2=\"120.0\" stroke-linecap=\"round\" style=\"stroke:blue;stroke-width:4\"/><line x1=\"330.0\" y1=\"120.0\" x2=\"275.0\" y2=\"120.0\" stroke-linecap=\"round\" style=\"stroke:blue;stroke-width:4\"/><line x1=\"275.0\" y1=\"120.0\" x2=\"275.0\" y2=\"170.0\" stroke-linecap=\"round\" style=\"stroke:blue;stroke-width:4\"/><line x1=\"275.0\" y1=\"170.0\" x2=\"320.0\" y2=\"170.0\" stroke-linecap=\"round\" style=\"stroke:blue;stroke-width:4\"/><line x1=\"320.0\" y1=\"170.0\" x2=\"320.0\" y2=\"130.0\" stroke-linecap=\"round\" style=\"stroke:blue;stroke-width:4\"/><line x1=\"320.0\" y1=\"130.0\" x2=\"285.0\" y2=\"130.0\" stroke-linecap=\"round\" style=\"stroke:blue;stroke-width:4\"/><line x1=\"285.0\" y1=\"130.0\" x2=\"285.0\" y2=\"160.0\" stroke-linecap=\"round\" style=\"stroke:blue;stroke-width:4\"/><line x1=\"285.0\" y1=\"160.0\" x2=\"310.0\" y2=\"160.0\" stroke-linecap=\"round\" style=\"stroke:blue;stroke-width:4\"/><line x1=\"310.0\" y1=\"160.0\" x2=\"310.0\" y2=\"140.0\" stroke-linecap=\"round\" style=\"stroke:blue;stroke-width:4\"/><line x1=\"310.0\" y1=\"140.0\" x2=\"295.0\" y2=\"140.0\" stroke-linecap=\"round\" style=\"stroke:blue;stroke-width:4\"/><line x1=\"295.0\" y1=\"140.0\" x2=\"295.0\" y2=\"150.0\" stroke-linecap=\"round\" style=\"stroke:blue;stroke-width:4\"/><line x1=\"295.0\" y1=\"150.0\" x2=\"300.0\" y2=\"150.0\" stroke-linecap=\"round\" style=\"stroke:blue;stroke-width:4\"/>\n",
       "        <g visibility=visible transform=\"rotate(360,300.0,150.0) translate(282.0, 132.0)\">\n",
       "<path style=\" stroke:none;fill-rule:evenodd;fill:blue;fill-opacity:1;\" d=\"M 18.214844 0.632812 C 16.109375 1.800781 15.011719 4.074219 15.074219 7.132812 L 15.085938 7.652344 L 14.785156 7.496094 C 13.476562 6.824219 11.957031 6.671875 10.40625 7.066406 C 8.46875 7.550781 6.515625 9.15625 4.394531 11.992188 C 3.0625 13.777344 2.679688 14.636719 3.042969 15.027344 L 3.15625 15.152344 L 3.519531 15.152344 C 4.238281 15.152344 4.828125 14.886719 8.1875 13.039062 C 9.386719 12.378906 10.371094 11.839844 10.378906 11.839844 C 10.386719 11.839844 10.355469 11.929688 10.304688 12.035156 C 9.832031 13.09375 9.257812 14.820312 8.96875 16.078125 C 7.914062 20.652344 8.617188 24.53125 11.070312 27.660156 C 11.351562 28.015625 11.363281 27.914062 10.972656 28.382812 C 8.925781 30.84375 7.945312 33.28125 8.238281 35.1875 C 8.289062 35.527344 8.28125 35.523438 8.917969 35.523438 C 10.941406 35.523438 13.074219 34.207031 15.136719 31.6875 C 15.359375 31.417969 15.328125 31.425781 15.5625 31.574219 C 16.292969 32.042969 18.023438 32.964844 18.175781 32.964844 C 18.335938 32.964844 19.941406 32.210938 20.828125 31.71875 C 20.996094 31.625 21.136719 31.554688 21.136719 31.558594 C 21.203125 31.664062 21.898438 32.414062 22.222656 32.730469 C 23.835938 34.300781 25.5625 35.132812 27.582031 35.300781 C 27.90625 35.328125 27.9375 35.308594 28.007812 34.984375 C 28.382812 33.242188 27.625 30.925781 25.863281 28.425781 L 25.542969 27.96875 L 25.699219 27.785156 C 28.945312 23.960938 29.132812 18.699219 26.257812 11.96875 L 26.207031 11.84375 L 27.945312 12.703125 C 31.53125 14.476562 32.316406 14.800781 33.03125 14.800781 C 33.976562 14.800781 33.78125 13.9375 32.472656 12.292969 C 28.519531 7.355469 25.394531 5.925781 21.921875 7.472656 L 21.558594 7.636719 L 21.578125 7.542969 C 21.699219 6.992188 21.761719 5.742188 21.699219 5.164062 C 21.496094 3.296875 20.664062 1.964844 19.003906 0.855469 C 18.480469 0.503906 18.457031 0.5 18.214844 0.632812\"/>\n",
       "</g>\n",
       "      </svg>\n",
       "    "
      ],
      "text/plain": [
       "<IPython.core.display.HTML object>"
      ]
     },
     "metadata": {},
     "output_type": "display_data"
    }
   ],
   "source": [
    "##\n",
    "## Square Spirals Outside - In\n",
    "##\n",
    "initializeTurtle()\n",
    "##\n",
    "speed=13\n",
    "clear()\n",
    "\n",
    "bgcolor(\"LightGreen\")\n",
    "color(\"Blue\")\n",
    " \n",
    "def sqrfunc(size):\n",
    "    for i in range(4):\n",
    "        fd(size)\n",
    "        left(90)\n",
    "        size = size-5\n",
    " \n",
    "for i in range(200,0,-20):\n",
    "    sqrfunc(i)"
   ]
  },
  {
   "cell_type": "code",
   "execution_count": 18,
   "id": "f33215c3",
   "metadata": {},
   "outputs": [
    {
     "data": {
      "text/html": [
       "\n",
       "      <svg width=\"800\" height=\"500\">\n",
       "        <rect width=\"100%\" height=\"100%\" fill=\"lightgreen\"/>\n",
       "        <line x1=\"400\" y1=\"250\" x2=\"400.0\" y2=\"250.0\" stroke-linecap=\"round\" style=\"stroke:blue;stroke-width:4\"/><line x1=\"400.0\" y1=\"250.0\" x2=\"395.0\" y2=\"250.0\" stroke-linecap=\"round\" style=\"stroke:blue;stroke-width:4\"/><line x1=\"395.0\" y1=\"250.0\" x2=\"395.0\" y2=\"260.0\" stroke-linecap=\"round\" style=\"stroke:blue;stroke-width:4\"/><line x1=\"395.0\" y1=\"260.0\" x2=\"410.0\" y2=\"260.0\" stroke-linecap=\"round\" style=\"stroke:blue;stroke-width:4\"/><line x1=\"410.0\" y1=\"260.0\" x2=\"410.0\" y2=\"240.0\" stroke-linecap=\"round\" style=\"stroke:blue;stroke-width:4\"/><line x1=\"410.0\" y1=\"240.0\" x2=\"385.0\" y2=\"240.0\" stroke-linecap=\"round\" style=\"stroke:blue;stroke-width:4\"/><line x1=\"385.0\" y1=\"240.0\" x2=\"385.0\" y2=\"270.0\" stroke-linecap=\"round\" style=\"stroke:blue;stroke-width:4\"/><line x1=\"385.0\" y1=\"270.0\" x2=\"420.0\" y2=\"270.0\" stroke-linecap=\"round\" style=\"stroke:blue;stroke-width:4\"/><line x1=\"420.0\" y1=\"270.0\" x2=\"420.0\" y2=\"230.0\" stroke-linecap=\"round\" style=\"stroke:blue;stroke-width:4\"/><line x1=\"420.0\" y1=\"230.0\" x2=\"375.0\" y2=\"230.0\" stroke-linecap=\"round\" style=\"stroke:blue;stroke-width:4\"/><line x1=\"375.0\" y1=\"230.0\" x2=\"375.0\" y2=\"280.0\" stroke-linecap=\"round\" style=\"stroke:blue;stroke-width:4\"/><line x1=\"375.0\" y1=\"280.0\" x2=\"430.0\" y2=\"280.0\" stroke-linecap=\"round\" style=\"stroke:blue;stroke-width:4\"/><line x1=\"430.0\" y1=\"280.0\" x2=\"430.0\" y2=\"220.0\" stroke-linecap=\"round\" style=\"stroke:blue;stroke-width:4\"/><line x1=\"430.0\" y1=\"220.0\" x2=\"365.0\" y2=\"220.0\" stroke-linecap=\"round\" style=\"stroke:blue;stroke-width:4\"/><line x1=\"365.0\" y1=\"220.0\" x2=\"365.0\" y2=\"290.0\" stroke-linecap=\"round\" style=\"stroke:blue;stroke-width:4\"/><line x1=\"365.0\" y1=\"290.0\" x2=\"440.0\" y2=\"290.0\" stroke-linecap=\"round\" style=\"stroke:blue;stroke-width:4\"/><line x1=\"440.0\" y1=\"290.0\" x2=\"440.0\" y2=\"210.0\" stroke-linecap=\"round\" style=\"stroke:blue;stroke-width:4\"/><line x1=\"440.0\" y1=\"210.0\" x2=\"355.0\" y2=\"210.0\" stroke-linecap=\"round\" style=\"stroke:blue;stroke-width:4\"/><line x1=\"355.0\" y1=\"210.0\" x2=\"355.0\" y2=\"300.0\" stroke-linecap=\"round\" style=\"stroke:blue;stroke-width:4\"/><line x1=\"355.0\" y1=\"300.0\" x2=\"450.0\" y2=\"300.0\" stroke-linecap=\"round\" style=\"stroke:blue;stroke-width:4\"/><line x1=\"450.0\" y1=\"300.0\" x2=\"450.0\" y2=\"200.0\" stroke-linecap=\"round\" style=\"stroke:blue;stroke-width:4\"/><line x1=\"450.0\" y1=\"200.0\" x2=\"345.0\" y2=\"200.0\" stroke-linecap=\"round\" style=\"stroke:blue;stroke-width:4\"/><line x1=\"345.0\" y1=\"200.0\" x2=\"345.0\" y2=\"310.0\" stroke-linecap=\"round\" style=\"stroke:blue;stroke-width:4\"/><line x1=\"345.0\" y1=\"310.0\" x2=\"460.0\" y2=\"310.0\" stroke-linecap=\"round\" style=\"stroke:blue;stroke-width:4\"/><line x1=\"460.0\" y1=\"310.0\" x2=\"460.0\" y2=\"190.0\" stroke-linecap=\"round\" style=\"stroke:blue;stroke-width:4\"/><line x1=\"460.0\" y1=\"190.0\" x2=\"335.0\" y2=\"190.0\" stroke-linecap=\"round\" style=\"stroke:blue;stroke-width:4\"/><line x1=\"335.0\" y1=\"190.0\" x2=\"335.0\" y2=\"320.0\" stroke-linecap=\"round\" style=\"stroke:blue;stroke-width:4\"/><line x1=\"335.0\" y1=\"320.0\" x2=\"470.0\" y2=\"320.0\" stroke-linecap=\"round\" style=\"stroke:blue;stroke-width:4\"/><line x1=\"470.0\" y1=\"320.0\" x2=\"470.0\" y2=\"180.0\" stroke-linecap=\"round\" style=\"stroke:blue;stroke-width:4\"/><line x1=\"470.0\" y1=\"180.0\" x2=\"325.0\" y2=\"180.0\" stroke-linecap=\"round\" style=\"stroke:blue;stroke-width:4\"/><line x1=\"325.0\" y1=\"180.0\" x2=\"325.0\" y2=\"330.0\" stroke-linecap=\"round\" style=\"stroke:blue;stroke-width:4\"/><line x1=\"325.0\" y1=\"330.0\" x2=\"480.0\" y2=\"330.0\" stroke-linecap=\"round\" style=\"stroke:blue;stroke-width:4\"/><line x1=\"480.0\" y1=\"330.0\" x2=\"480.0\" y2=\"170.0\" stroke-linecap=\"round\" style=\"stroke:blue;stroke-width:4\"/><line x1=\"480.0\" y1=\"170.0\" x2=\"315.0\" y2=\"170.0\" stroke-linecap=\"round\" style=\"stroke:blue;stroke-width:4\"/><line x1=\"315.0\" y1=\"170.0\" x2=\"315.0\" y2=\"340.0\" stroke-linecap=\"round\" style=\"stroke:blue;stroke-width:4\"/><line x1=\"315.0\" y1=\"340.0\" x2=\"490.0\" y2=\"340.0\" stroke-linecap=\"round\" style=\"stroke:blue;stroke-width:4\"/><line x1=\"490.0\" y1=\"340.0\" x2=\"490.0\" y2=\"160.0\" stroke-linecap=\"round\" style=\"stroke:blue;stroke-width:4\"/><line x1=\"490.0\" y1=\"160.0\" x2=\"305.0\" y2=\"160.0\" stroke-linecap=\"round\" style=\"stroke:blue;stroke-width:4\"/><line x1=\"305.0\" y1=\"160.0\" x2=\"305.0\" y2=\"350.0\" stroke-linecap=\"round\" style=\"stroke:blue;stroke-width:4\"/><line x1=\"305.0\" y1=\"350.0\" x2=\"500.0\" y2=\"350.0\" stroke-linecap=\"round\" style=\"stroke:blue;stroke-width:4\"/>\n",
       "        <g visibility=visible transform=\"rotate(360,500.0,350.0) translate(482.0, 332.0)\">\n",
       "<path style=\" stroke:none;fill-rule:evenodd;fill:blue;fill-opacity:1;\" d=\"M 18.214844 0.632812 C 16.109375 1.800781 15.011719 4.074219 15.074219 7.132812 L 15.085938 7.652344 L 14.785156 7.496094 C 13.476562 6.824219 11.957031 6.671875 10.40625 7.066406 C 8.46875 7.550781 6.515625 9.15625 4.394531 11.992188 C 3.0625 13.777344 2.679688 14.636719 3.042969 15.027344 L 3.15625 15.152344 L 3.519531 15.152344 C 4.238281 15.152344 4.828125 14.886719 8.1875 13.039062 C 9.386719 12.378906 10.371094 11.839844 10.378906 11.839844 C 10.386719 11.839844 10.355469 11.929688 10.304688 12.035156 C 9.832031 13.09375 9.257812 14.820312 8.96875 16.078125 C 7.914062 20.652344 8.617188 24.53125 11.070312 27.660156 C 11.351562 28.015625 11.363281 27.914062 10.972656 28.382812 C 8.925781 30.84375 7.945312 33.28125 8.238281 35.1875 C 8.289062 35.527344 8.28125 35.523438 8.917969 35.523438 C 10.941406 35.523438 13.074219 34.207031 15.136719 31.6875 C 15.359375 31.417969 15.328125 31.425781 15.5625 31.574219 C 16.292969 32.042969 18.023438 32.964844 18.175781 32.964844 C 18.335938 32.964844 19.941406 32.210938 20.828125 31.71875 C 20.996094 31.625 21.136719 31.554688 21.136719 31.558594 C 21.203125 31.664062 21.898438 32.414062 22.222656 32.730469 C 23.835938 34.300781 25.5625 35.132812 27.582031 35.300781 C 27.90625 35.328125 27.9375 35.308594 28.007812 34.984375 C 28.382812 33.242188 27.625 30.925781 25.863281 28.425781 L 25.542969 27.96875 L 25.699219 27.785156 C 28.945312 23.960938 29.132812 18.699219 26.257812 11.96875 L 26.207031 11.84375 L 27.945312 12.703125 C 31.53125 14.476562 32.316406 14.800781 33.03125 14.800781 C 33.976562 14.800781 33.78125 13.9375 32.472656 12.292969 C 28.519531 7.355469 25.394531 5.925781 21.921875 7.472656 L 21.558594 7.636719 L 21.578125 7.542969 C 21.699219 6.992188 21.761719 5.742188 21.699219 5.164062 C 21.496094 3.296875 20.664062 1.964844 19.003906 0.855469 C 18.480469 0.503906 18.457031 0.5 18.214844 0.632812\"/>\n",
       "</g>\n",
       "      </svg>\n",
       "    "
      ],
      "text/plain": [
       "<IPython.core.display.HTML object>"
      ]
     },
     "metadata": {},
     "output_type": "display_data"
    }
   ],
   "source": [
    "##\n",
    "## Square Spirals Inside-out\n",
    "##\n",
    "initializeTurtle()\n",
    "##\n",
    "\n",
    "speed=13\n",
    "clear()\n",
    "\n",
    "bgcolor(\"LightGreen\")\n",
    "color(\"Blue\")\n",
    "\n",
    "def sqrfunc(size):\n",
    "    for i in range(4):\n",
    "        #print(size)\n",
    "        fd(size)\n",
    "        left(90)\n",
    "        size = size+5\n",
    "        \n",
    "        \n",
    " \n",
    "for i in range(0,200,20):\n",
    "    sqrfunc(i)\n"
   ]
  },
  {
   "cell_type": "code",
   "execution_count": 14,
   "id": "4671d082",
   "metadata": {},
   "outputs": [
    {
     "data": {
      "text/html": [
       "\n",
       "      <svg width=\"800\" height=\"500\">\n",
       "        <rect width=\"100%\" height=\"100%\" fill=\"black\"/>\n",
       "        <line x1=\"400\" y1=\"250\" x2=\"400.0\" y2=\"150.0\" stroke-linecap=\"round\" style=\"stroke:white;stroke-width:4\"/><line x1=\"400.0\" y1=\"150.0\" x2=\"305.0\" y2=\"150.0\" stroke-linecap=\"round\" style=\"stroke:white;stroke-width:4\"/><line x1=\"305.0\" y1=\"150.0\" x2=\"305.0\" y2=\"240.0\" stroke-linecap=\"round\" style=\"stroke:white;stroke-width:4\"/><line x1=\"305.0\" y1=\"240.0\" x2=\"390.0\" y2=\"240.0\" stroke-linecap=\"round\" style=\"stroke:white;stroke-width:4\"/>\n",
       "        <g visibility=visible transform=\"rotate(360,390.0,240.0) translate(372.0, 222.0)\">\n",
       "<path style=\" stroke:none;fill-rule:evenodd;fill:white;fill-opacity:1;\" d=\"M 18.214844 0.632812 C 16.109375 1.800781 15.011719 4.074219 15.074219 7.132812 L 15.085938 7.652344 L 14.785156 7.496094 C 13.476562 6.824219 11.957031 6.671875 10.40625 7.066406 C 8.46875 7.550781 6.515625 9.15625 4.394531 11.992188 C 3.0625 13.777344 2.679688 14.636719 3.042969 15.027344 L 3.15625 15.152344 L 3.519531 15.152344 C 4.238281 15.152344 4.828125 14.886719 8.1875 13.039062 C 9.386719 12.378906 10.371094 11.839844 10.378906 11.839844 C 10.386719 11.839844 10.355469 11.929688 10.304688 12.035156 C 9.832031 13.09375 9.257812 14.820312 8.96875 16.078125 C 7.914062 20.652344 8.617188 24.53125 11.070312 27.660156 C 11.351562 28.015625 11.363281 27.914062 10.972656 28.382812 C 8.925781 30.84375 7.945312 33.28125 8.238281 35.1875 C 8.289062 35.527344 8.28125 35.523438 8.917969 35.523438 C 10.941406 35.523438 13.074219 34.207031 15.136719 31.6875 C 15.359375 31.417969 15.328125 31.425781 15.5625 31.574219 C 16.292969 32.042969 18.023438 32.964844 18.175781 32.964844 C 18.335938 32.964844 19.941406 32.210938 20.828125 31.71875 C 20.996094 31.625 21.136719 31.554688 21.136719 31.558594 C 21.203125 31.664062 21.898438 32.414062 22.222656 32.730469 C 23.835938 34.300781 25.5625 35.132812 27.582031 35.300781 C 27.90625 35.328125 27.9375 35.308594 28.007812 34.984375 C 28.382812 33.242188 27.625 30.925781 25.863281 28.425781 L 25.542969 27.96875 L 25.699219 27.785156 C 28.945312 23.960938 29.132812 18.699219 26.257812 11.96875 L 26.207031 11.84375 L 27.945312 12.703125 C 31.53125 14.476562 32.316406 14.800781 33.03125 14.800781 C 33.976562 14.800781 33.78125 13.9375 32.472656 12.292969 C 28.519531 7.355469 25.394531 5.925781 21.921875 7.472656 L 21.558594 7.636719 L 21.578125 7.542969 C 21.699219 6.992188 21.761719 5.742188 21.699219 5.164062 C 21.496094 3.296875 20.664062 1.964844 19.003906 0.855469 C 18.480469 0.503906 18.457031 0.5 18.214844 0.632812\"/>\n",
       "</g>\n",
       "      </svg>\n",
       "    "
      ],
      "text/plain": [
       "<IPython.core.display.HTML object>"
      ]
     },
     "metadata": {},
     "output_type": "display_data"
    }
   ],
   "source": [
    "initializeTurtle()\n",
    "size = 100\n",
    "for i in range(4):\n",
    "    forward(size)\n",
    "    left(90)\n",
    "    size = size-5\n",
    "    "
   ]
  },
  {
   "cell_type": "code",
   "execution_count": 11,
   "id": "7062454c",
   "metadata": {},
   "outputs": [
    {
     "name": "stdout",
     "output_type": "stream",
     "text": [
      "80\n"
     ]
    }
   ],
   "source": [
    "print(size)"
   ]
  },
  {
   "cell_type": "code",
   "execution_count": 17,
   "id": "0cec1c48",
   "metadata": {},
   "outputs": [
    {
     "name": "stdout",
     "output_type": "stream",
     "text": [
      "200\n",
      "179\n",
      "158\n",
      "137\n",
      "116\n",
      "95\n",
      "74\n",
      "53\n",
      "32\n",
      "11\n"
     ]
    }
   ],
   "source": [
    "##\n",
    "## range(start,stop,step)\n",
    "##\n",
    "for i in range(200,0,-21):\n",
    "    print(i)"
   ]
  },
  {
   "cell_type": "code",
   "execution_count": null,
   "id": "aa5ee820",
   "metadata": {},
   "outputs": [],
   "source": []
  }
 ],
 "metadata": {
  "kernelspec": {
   "display_name": "Python 3",
   "language": "python",
   "name": "python3"
  },
  "language_info": {
   "codemirror_mode": {
    "name": "ipython",
    "version": 3
   },
   "file_extension": ".py",
   "mimetype": "text/x-python",
   "name": "python",
   "nbconvert_exporter": "python",
   "pygments_lexer": "ipython3",
   "version": "3.8.8"
  }
 },
 "nbformat": 4,
 "nbformat_minor": 5
}
