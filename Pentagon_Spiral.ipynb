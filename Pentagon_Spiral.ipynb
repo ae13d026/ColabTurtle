{
 "cells": [
  {
   "cell_type": "code",
   "execution_count": 2,
   "id": "173313ca",
   "metadata": {},
   "outputs": [
    {
     "name": "stdout",
     "output_type": "stream",
     "text": [
      "Requirement already satisfied: ColabTurtle in c:\\users\\najam\\anaconda3\\lib\\site-packages (2.1.0)\n"
     ]
    },
    {
     "data": {
      "text/html": [
       "\n",
       "      <svg width=\"800\" height=\"500\">\n",
       "        <rect width=\"100%\" height=\"100%\" fill=\"lightgreen\"/>\n",
       "        <line x1=\"400\" y1=\"250\" x2=\"400.0\" y2=\"250.0\" stroke-linecap=\"round\" style=\"stroke:blue;stroke-width:4\"/><line x1=\"400.0\" y1=\"250.0\" x2=\"395.245\" y2=\"248.455\" stroke-linecap=\"round\" style=\"stroke:blue;stroke-width:4\"/><line x1=\"395.245\" y1=\"248.455\" x2=\"389.367\" y2=\"256.545\" stroke-linecap=\"round\" style=\"stroke:blue;stroke-width:4\"/><line x1=\"389.367\" y1=\"256.545\" x2=\"398.184\" y2=\"268.68\" stroke-linecap=\"round\" style=\"stroke:blue;stroke-width:4\"/><line x1=\"398.184\" y1=\"268.68\" x2=\"417.205\" y2=\"262.5\" stroke-linecap=\"round\" style=\"stroke:blue;stroke-width:4\"/><line x1=\"417.205\" y1=\"262.5\" x2=\"417.205\" y2=\"237.5\" stroke-linecap=\"round\" style=\"stroke:blue;stroke-width:4\"/><line x1=\"417.205\" y1=\"237.5\" x2=\"388.673\" y2=\"228.229\" stroke-linecap=\"round\" style=\"stroke:blue;stroke-width:4\"/><line x1=\"388.673\" y1=\"228.229\" x2=\"368.101\" y2=\"256.545\" stroke-linecap=\"round\" style=\"stroke:blue;stroke-width:4\"/><line x1=\"368.101\" y1=\"256.545\" x2=\"391.612\" y2=\"288.906\" stroke-linecap=\"round\" style=\"stroke:blue;stroke-width:4\"/><line x1=\"391.612\" y1=\"288.906\" x2=\"434.41\" y2=\"275.0\" stroke-linecap=\"round\" style=\"stroke:blue;stroke-width:4\"/><line x1=\"434.41\" y1=\"275.0\" x2=\"434.41\" y2=\"225.0\" stroke-linecap=\"round\" style=\"stroke:blue;stroke-width:4\"/><line x1=\"434.41\" y1=\"225.0\" x2=\"382.102\" y2=\"208.004\" stroke-linecap=\"round\" style=\"stroke:blue;stroke-width:4\"/><line x1=\"382.102\" y1=\"208.004\" x2=\"346.835\" y2=\"256.545\" stroke-linecap=\"round\" style=\"stroke:blue;stroke-width:4\"/><line x1=\"346.835\" y1=\"256.545\" x2=\"385.041\" y2=\"309.131\" stroke-linecap=\"round\" style=\"stroke:blue;stroke-width:4\"/><line x1=\"385.041\" y1=\"309.131\" x2=\"451.615\" y2=\"287.5\" stroke-linecap=\"round\" style=\"stroke:blue;stroke-width:4\"/><line x1=\"451.615\" y1=\"287.5\" x2=\"451.615\" y2=\"212.5\" stroke-linecap=\"round\" style=\"stroke:blue;stroke-width:4\"/><line x1=\"451.615\" y1=\"212.5\" x2=\"375.53\" y2=\"187.779\" stroke-linecap=\"round\" style=\"stroke:blue;stroke-width:4\"/><line x1=\"375.53\" y1=\"187.779\" x2=\"325.568\" y2=\"256.545\" stroke-linecap=\"round\" style=\"stroke:blue;stroke-width:4\"/><line x1=\"325.568\" y1=\"256.545\" x2=\"378.469\" y2=\"329.357\" stroke-linecap=\"round\" style=\"stroke:blue;stroke-width:4\"/><line x1=\"378.469\" y1=\"329.357\" x2=\"468.819\" y2=\"300.0\" stroke-linecap=\"round\" style=\"stroke:blue;stroke-width:4\"/><line x1=\"468.819\" y1=\"300.0\" x2=\"468.819\" y2=\"200.0\" stroke-linecap=\"round\" style=\"stroke:blue;stroke-width:4\"/><line x1=\"468.819\" y1=\"200.0\" x2=\"368.958\" y2=\"167.553\" stroke-linecap=\"round\" style=\"stroke:blue;stroke-width:4\"/><line x1=\"368.958\" y1=\"167.553\" x2=\"304.302\" y2=\"256.545\" stroke-linecap=\"round\" style=\"stroke:blue;stroke-width:4\"/><line x1=\"304.302\" y1=\"256.545\" x2=\"371.897\" y2=\"349.582\" stroke-linecap=\"round\" style=\"stroke:blue;stroke-width:4\"/><line x1=\"371.897\" y1=\"349.582\" x2=\"486.024\" y2=\"312.5\" stroke-linecap=\"round\" style=\"stroke:blue;stroke-width:4\"/><line x1=\"486.024\" y1=\"312.5\" x2=\"486.024\" y2=\"187.5\" stroke-linecap=\"round\" style=\"stroke:blue;stroke-width:4\"/><line x1=\"486.024\" y1=\"187.5\" x2=\"362.387\" y2=\"147.328\" stroke-linecap=\"round\" style=\"stroke:blue;stroke-width:4\"/><line x1=\"362.387\" y1=\"147.328\" x2=\"283.036\" y2=\"256.545\" stroke-linecap=\"round\" style=\"stroke:blue;stroke-width:4\"/><line x1=\"283.036\" y1=\"256.545\" x2=\"365.326\" y2=\"369.807\" stroke-linecap=\"round\" style=\"stroke:blue;stroke-width:4\"/><line x1=\"365.326\" y1=\"369.807\" x2=\"503.229\" y2=\"325.0\" stroke-linecap=\"round\" style=\"stroke:blue;stroke-width:4\"/><line x1=\"503.229\" y1=\"325.0\" x2=\"503.229\" y2=\"175.0\" stroke-linecap=\"round\" style=\"stroke:blue;stroke-width:4\"/><line x1=\"503.229\" y1=\"175.0\" x2=\"355.815\" y2=\"127.102\" stroke-linecap=\"round\" style=\"stroke:blue;stroke-width:4\"/><line x1=\"355.815\" y1=\"127.102\" x2=\"261.769\" y2=\"256.545\" stroke-linecap=\"round\" style=\"stroke:blue;stroke-width:4\"/><line x1=\"261.769\" y1=\"256.545\" x2=\"358.754\" y2=\"390.033\" stroke-linecap=\"round\" style=\"stroke:blue;stroke-width:4\"/><line x1=\"358.754\" y1=\"390.033\" x2=\"520.434\" y2=\"337.5\" stroke-linecap=\"round\" style=\"stroke:blue;stroke-width:4\"/><line x1=\"520.434\" y1=\"337.5\" x2=\"520.434\" y2=\"162.5\" stroke-linecap=\"round\" style=\"stroke:blue;stroke-width:4\"/><line x1=\"520.434\" y1=\"162.5\" x2=\"349.244\" y2=\"106.877\" stroke-linecap=\"round\" style=\"stroke:blue;stroke-width:4\"/><line x1=\"349.244\" y1=\"106.877\" x2=\"240.504\" y2=\"256.545\" stroke-linecap=\"round\" style=\"stroke:blue;stroke-width:4\"/><line x1=\"240.504\" y1=\"256.545\" x2=\"352.183\" y2=\"410.258\" stroke-linecap=\"round\" style=\"stroke:blue;stroke-width:4\"/><line x1=\"352.183\" y1=\"410.258\" x2=\"537.639\" y2=\"350.0\" stroke-linecap=\"round\" style=\"stroke:blue;stroke-width:4\"/>\n",
       "        <g visibility=visible transform=\"rotate(360.0,537.639,350.0) translate(519.639, 332.0)\">\n",
       "<path style=\" stroke:none;fill-rule:evenodd;fill:blue;fill-opacity:1;\" d=\"M 18.214844 0.632812 C 16.109375 1.800781 15.011719 4.074219 15.074219 7.132812 L 15.085938 7.652344 L 14.785156 7.496094 C 13.476562 6.824219 11.957031 6.671875 10.40625 7.066406 C 8.46875 7.550781 6.515625 9.15625 4.394531 11.992188 C 3.0625 13.777344 2.679688 14.636719 3.042969 15.027344 L 3.15625 15.152344 L 3.519531 15.152344 C 4.238281 15.152344 4.828125 14.886719 8.1875 13.039062 C 9.386719 12.378906 10.371094 11.839844 10.378906 11.839844 C 10.386719 11.839844 10.355469 11.929688 10.304688 12.035156 C 9.832031 13.09375 9.257812 14.820312 8.96875 16.078125 C 7.914062 20.652344 8.617188 24.53125 11.070312 27.660156 C 11.351562 28.015625 11.363281 27.914062 10.972656 28.382812 C 8.925781 30.84375 7.945312 33.28125 8.238281 35.1875 C 8.289062 35.527344 8.28125 35.523438 8.917969 35.523438 C 10.941406 35.523438 13.074219 34.207031 15.136719 31.6875 C 15.359375 31.417969 15.328125 31.425781 15.5625 31.574219 C 16.292969 32.042969 18.023438 32.964844 18.175781 32.964844 C 18.335938 32.964844 19.941406 32.210938 20.828125 31.71875 C 20.996094 31.625 21.136719 31.554688 21.136719 31.558594 C 21.203125 31.664062 21.898438 32.414062 22.222656 32.730469 C 23.835938 34.300781 25.5625 35.132812 27.582031 35.300781 C 27.90625 35.328125 27.9375 35.308594 28.007812 34.984375 C 28.382812 33.242188 27.625 30.925781 25.863281 28.425781 L 25.542969 27.96875 L 25.699219 27.785156 C 28.945312 23.960938 29.132812 18.699219 26.257812 11.96875 L 26.207031 11.84375 L 27.945312 12.703125 C 31.53125 14.476562 32.316406 14.800781 33.03125 14.800781 C 33.976562 14.800781 33.78125 13.9375 32.472656 12.292969 C 28.519531 7.355469 25.394531 5.925781 21.921875 7.472656 L 21.558594 7.636719 L 21.578125 7.542969 C 21.699219 6.992188 21.761719 5.742188 21.699219 5.164062 C 21.496094 3.296875 20.664062 1.964844 19.003906 0.855469 C 18.480469 0.503906 18.457031 0.5 18.214844 0.632812\"/>\n",
       "</g>\n",
       "      </svg>\n",
       "    "
      ],
      "text/plain": [
       "<IPython.core.display.HTML object>"
      ]
     },
     "metadata": {},
     "output_type": "display_data"
    }
   ],
   "source": [
    "##\n",
    "## Pentagon Spirals Inside-out\n",
    "##\n",
    "!pip install ColabTurtle\n",
    "from ColabTurtle.Turtle import *\n",
    "initializeTurtle()\n",
    "##\n",
    "\n",
    "speed=13\n",
    "clear()\n",
    "\n",
    "bgcolor(\"LightGreen\")\n",
    "color(\"Blue\")\n",
    "\n",
    "def sqrfunc(size):\n",
    "    for i in range(5):\n",
    "        #print(size)\n",
    "        fd(size)\n",
    "        left(360/5)\n",
    "        size = size+5\n",
    "        \n",
    "        \n",
    " \n",
    "for i in range(0,200,25):\n",
    "    sqrfunc(i)"
   ]
  },
  {
   "cell_type": "code",
   "execution_count": null,
   "id": "f35f5936",
   "metadata": {},
   "outputs": [],
   "source": []
  }
 ],
 "metadata": {
  "kernelspec": {
   "display_name": "Python 3",
   "language": "python",
   "name": "python3"
  },
  "language_info": {
   "codemirror_mode": {
    "name": "ipython",
    "version": 3
   },
   "file_extension": ".py",
   "mimetype": "text/x-python",
   "name": "python",
   "nbconvert_exporter": "python",
   "pygments_lexer": "ipython3",
   "version": "3.8.8"
  }
 },
 "nbformat": 4,
 "nbformat_minor": 5
}
