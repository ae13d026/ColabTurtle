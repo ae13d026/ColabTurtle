{
 "cells": [
  {
   "cell_type": "code",
   "execution_count": null,
   "id": "4f156b4d",
   "metadata": {},
   "outputs": [],
   "source": [
    "!pip install ColabTurtle\n",
    "from ColabTurtle.Turtle import *\n",
    "initializeTurtle()"
   ]
  },
  {
   "cell_type": "code",
   "execution_count": null,
   "id": "e9345c73",
   "metadata": {},
   "outputs": [],
   "source": [
    "# Python program to draw square\n",
    "# using ColabTurtle Programming\n",
    "for i in range(4):\n",
    "    forward(100)\n",
    "    right(90)"
   ]
  },
  {
   "cell_type": "code",
   "execution_count": null,
   "id": "a714cb82",
   "metadata": {},
   "outputs": [],
   "source": [
    "##\n",
    "## Draw a polygon\n",
    "##\n",
    "clear()\n",
    "penup()\n",
    "goto(25,250)\n",
    "pendown()\n",
    "for i in range(10):\n",
    "    forward(100)\n",
    "    right(360/10)"
   ]
  },
  {
   "cell_type": "code",
   "execution_count": null,
   "id": "1720b89b",
   "metadata": {},
   "outputs": [],
   "source": [
    "##\n",
    "## Draw polygons from triangle to decagon\n",
    "##\n",
    "clear()\n",
    "penup()\n",
    "goto(25,250)\n",
    "pendown()\n",
    "for i in range(3,11):\n",
    "  for j in range(i):\n",
    "      forward(100)\n",
    "      right(360/i)"
   ]
  },
  {
   "cell_type": "code",
   "execution_count": null,
   "id": "f11545bc",
   "metadata": {},
   "outputs": [],
   "source": [
    "##\n",
    "## Using Nested for loops\n",
    "##\n",
    "## Using If Conditionals\n",
    "##\n",
    "## break (This command breaks a loop)\n",
    "##\n",
    "## continue (This command moves the cursor to the beginning of the loop)\n",
    "##\n",
    "num_sides = int(input(\"Enter the number of sides for the polygon: \"))\n",
    "clear()\n",
    "penup()\n",
    "goto(25,250)\n",
    "pendown()\n",
    "for i in range(3,11):\n",
    "  if i == num_sides:\n",
    "    pass\n",
    "  else:\n",
    "    continue\n",
    "  for j in range(i):\n",
    "      forward(100)\n",
    "      right(360/i)"
   ]
  }
 ],
 "metadata": {
  "kernelspec": {
   "display_name": "Python 3 (ipykernel)",
   "language": "python",
   "name": "python3"
  },
  "language_info": {
   "codemirror_mode": {
    "name": "ipython",
    "version": 3
   },
   "file_extension": ".py",
   "mimetype": "text/x-python",
   "name": "python",
   "nbconvert_exporter": "python",
   "pygments_lexer": "ipython3",
   "version": "3.8.10"
  }
 },
 "nbformat": 4,
 "nbformat_minor": 5
}
