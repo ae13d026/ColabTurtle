{
 "cells": [
  {
   "cell_type": "code",
   "execution_count": 8,
   "id": "144bbfc4",
   "metadata": {},
   "outputs": [
    {
     "name": "stdout",
     "output_type": "stream",
     "text": [
      "Requirement already satisfied: turtle in c:\\users\\najam\\anaconda3\\lib\\site-packages (0.0.1)\n",
      "Requirement already satisfied: PyYAML>=3.08 in c:\\users\\najam\\anaconda3\\lib\\site-packages (from turtle) (5.4.1)\n",
      "This program draws shapes based on the number you enter in a uniform pattern.\n",
      "Enter the side number of the shape you want to draw: 10\n"
     ]
    }
   ],
   "source": [
    "# Python program to user input pattern\n",
    "# using Turtle Programming\n",
    "#Outside_In\n",
    "!pip install turtle\n",
    "import turtle\n",
    "import time\n",
    "import random\n",
    " \n",
    "print (\"This program draws shapes based on the number you enter in a uniform pattern.\")\n",
    "num_str = input(\"Enter the side number of the shape you want to draw: \")\n",
    "if num_str.isdigit():\n",
    "    squares = int(num_str)\n",
    " \n",
    "angle = 180 - 180*(squares-2)/squares\n",
    " \n",
    "turtle.up\n",
    " \n",
    "x = 0\n",
    "y = 0\n",
    "turtle.setpos(x, y)\n",
    " \n",
    " \n",
    "numshapes = 8\n",
    "for x in range(numshapes):\n",
    "    turtle.color(random.random(), random.random(), random.random())\n",
    "    x += 5\n",
    "    y += 5\n",
    "    turtle.forward(x)\n",
    "    turtle.left(y)\n",
    "    for i in range(squares):\n",
    "        turtle.begin_fill()\n",
    "        turtle.down()\n",
    "        turtle.forward(40)\n",
    "        turtle.left(angle)\n",
    "        turtle.forward(40)\n",
    "        #print (turtle.pos())\n",
    "        turtle.up()\n",
    "        turtle.end_fill()\n",
    " \n",
    "time.sleep(11)\n",
    "turtle.bye()"
   ]
  }
 ],
 "metadata": {
  "kernelspec": {
   "display_name": "Python 3",
   "language": "python",
   "name": "python3"
  },
  "language_info": {
   "codemirror_mode": {
    "name": "ipython",
    "version": 3
   },
   "file_extension": ".py",
   "mimetype": "text/x-python",
   "name": "python",
   "nbconvert_exporter": "python",
   "pygments_lexer": "ipython3",
   "version": "3.8.8"
  }
 },
 "nbformat": 4,
 "nbformat_minor": 5
}
