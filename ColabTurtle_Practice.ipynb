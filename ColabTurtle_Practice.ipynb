{
 "cells": [
  {
   "cell_type": "markdown",
   "id": "18259540",
   "metadata": {},
   "source": [
    "# These are the commands for your Reference\n",
    "\n",
    "!pip install ColabTurtle\n",
    "\n",
    "from ColabTurtle.Turtle import *\n",
    "\n",
    "initializeTurtle()\n",
    "\n",
    "clear()  clears the screen\n",
    "\n",
    "home() brings the turtle to the middle of the screen (home)\n",
    "\n",
    "forward(10) moves the turtle forward by 10 units\n",
    "\n",
    "backward(10) moves the turtle backwards by 10 units\n",
    "\n",
    "right(90) turns the trutle by 90 degrees\n",
    "\n",
    "left(90) turns the turtle by 90 degress\n",
    "\n",
    "face(90) or heading(90) or setheading(90) turns the turtle to the 90 degrees. Please remember (0-East, 90-south, 180-west, 270-north)\n",
    "\n",
    "penup() lifts the pen, turtle won't draw anything\n",
    "\n",
    "pendown() puts the pen down, turtle will start drawing\n",
    "\n",
    "speed(5) sets the speed of turtle. Speeds vary between 1 to 13. 1 being the slowest and 13 being the fastest\n",
    "\n",
    "setx(10) moves the turtle to the x=10 position and y remains constant\n",
    "\n",
    "sety(10) moves the turtle to the y=10 units, x remains constant\n",
    "\n",
    "getx() or xcor() returns the x co-ordinate\n",
    "\n",
    "get(y) or ycor() returns the y co-ordinate\n",
    "\n",
    "position() or pos() returns the current position of turtle\n",
    "\n",
    "heading() or getheading() returns the direction of the turtle currently. \n",
    "\n",
    "goto(x,y) or setpos(x,y) or setposition(x,y) moves the turtle position to (x,y)\n",
    "\n",
    "goto((x,y)), setpos((x,y)), or setposition((x,y)). We can give values in a tuple or individually.\n",
    "\n",
    "showturtle(), st() makes the turtle visible\n",
    "\n",
    "hideturtle(), ht() makes the turltle hideen\n",
    "\n",
    "isvisible() checks if the turtle is visible or hidden\n",
    "\n",
    "bgcolor() returns the current background color in (r,g,b) values\n",
    "\n",
    "bgcolor(10,20,30) or bgcolor((10,20,30)) changes the background color with red = 10, green = 10, and blue = 10 values\n",
    "\n",
    "color() returns the current turtle color in (r,g,b) values\n",
    "\n",
    "color(10,20,30) or color((10,20,30)) changes the turtle color with red = 10, green = 10, and blue = 10 values\n",
    "\n",
    "width(10) or pensize(10) changes the width of turtle\n",
    "\n",
    "width() or pensize() gives the current width of turtle\n",
    "\n",
    "distance(x,y) or distance((x,y)) returns turtle distance between current positiion to (x,y)\n",
    "\n",
    "write(obj, align=\"left\" or \"center\" or \"right\", font = (20,\"Arial\",\"bold\"); (\"bold\",\"normal\",\"italic\",\"underline\")\n",
    "\n",
    "write(\"YourName\",align=\"center\",font=(20,\"Arial\",\"bold\")) will write \"YourName\" at the current turtle position. Alter the position by goto(x,y) command\n",
    "\n",
    "shape('circle') changes the turtle shape to circle and shape('turtle') changes the circle shape back to turtle\n",
    "\n",
    "window_width() returns the width of turtle window\n",
    "\n",
    "window_height() returns the height of turtle window\n"
   ]
  },
  {
   "cell_type": "code",
   "execution_count": null,
   "id": "534795eb",
   "metadata": {},
   "outputs": [],
   "source": [
    "!pip install ColabTurtle\n",
    "from ColabTurtle.Turtle import *\n",
    "initializeTurtle()"
   ]
  },
  {
   "cell_type": "code",
   "execution_count": 1,
   "id": "8af63c55",
   "metadata": {},
   "outputs": [],
   "source": [
    "# Python program to draw square\n",
    "# using ColabTurtle Programming\n",
    "for i in range(4):\n",
    "    forward(100)\n",
    "    right(90)"
   ]
  },
  {
   "cell_type": "code",
   "execution_count": null,
   "id": "52d59496",
   "metadata": {},
   "outputs": [],
   "source": [
    "##\n",
    "## Draw a polygon\n",
    "##\n",
    "clear()\n",
    "penup()\n",
    "goto(25,250)\n",
    "pendown()\n",
    "for i in range(10):\n",
    "    forward(100)\n",
    "    right(360/10)"
   ]
  },
  {
   "cell_type": "code",
   "execution_count": null,
   "id": "5097eb6b",
   "metadata": {},
   "outputs": [],
   "source": [
    "##\n",
    "## Draw polygons\n",
    "##\n",
    "clear()\n",
    "penup()\n",
    "goto(25,250)\n",
    "pendown()\n",
    "for i in range(3,11):\n",
    "  for j in range(i):\n",
    "      forward(100)\n",
    "      right(360/i)"
   ]
  },
  {
   "cell_type": "code",
   "execution_count": null,
   "id": "22f0acb8",
   "metadata": {},
   "outputs": [],
   "source": [
    "##\n",
    "## Using Nested for loops\n",
    "##\n",
    "## Using If Conditionals\n",
    "##\n",
    "## break (This command breaks a loop)\n",
    "##\n",
    "## continue (This command moves the cursor to the beginning of the loop)\n",
    "##\n",
    "num_sides = int(input(\"Enter the number of sides for the polygon: \"))\n",
    "clear()\n",
    "penup()\n",
    "goto(25,250)\n",
    "pendown()\n",
    "for i in range(3,11):\n",
    "  if i == num_sides:\n",
    "    pass\n",
    "  else:\n",
    "    continue\n",
    "  for j in range(i):\n",
    "      forward(100)\n",
    "      right(360/i)"
   ]
  },
  {
   "cell_type": "code",
   "execution_count": 17,
   "id": "b18cf37b",
   "metadata": {},
   "outputs": [
    {
     "name": "stdout",
     "output_type": "stream",
     "text": [
      "Requirement already satisfied: ColabTurtle in c:\\users\\najam\\anaconda3\\lib\\site-packages (2.1.0)\n"
     ]
    },
    {
     "data": {
      "text/html": [
       "\n",
       "      <svg width=\"800\" height=\"500\">\n",
       "        <rect width=\"100%\" height=\"100%\" fill=\"lightgreen\"/>\n",
       "        <line x1=\"400\" y1=\"250\" x2=\"400.0\" y2=\"50.0\" stroke-linecap=\"round\" style=\"stroke:blue;stroke-width:4\"/><line x1=\"400.0\" y1=\"50.0\" x2=\"205.0\" y2=\"50.0\" stroke-linecap=\"round\" style=\"stroke:blue;stroke-width:4\"/><line x1=\"205.0\" y1=\"50.0\" x2=\"205.0\" y2=\"240.0\" stroke-linecap=\"round\" style=\"stroke:blue;stroke-width:4\"/><line x1=\"205.0\" y1=\"240.0\" x2=\"390.0\" y2=\"240.0\" stroke-linecap=\"round\" style=\"stroke:blue;stroke-width:4\"/><line x1=\"390.0\" y1=\"240.0\" x2=\"390.0\" y2=\"60.0\" stroke-linecap=\"round\" style=\"stroke:blue;stroke-width:4\"/><line x1=\"390.0\" y1=\"60.0\" x2=\"215.0\" y2=\"60.0\" stroke-linecap=\"round\" style=\"stroke:blue;stroke-width:4\"/><line x1=\"215.0\" y1=\"60.0\" x2=\"215.0\" y2=\"230.0\" stroke-linecap=\"round\" style=\"stroke:blue;stroke-width:4\"/><line x1=\"215.0\" y1=\"230.0\" x2=\"380.0\" y2=\"230.0\" stroke-linecap=\"round\" style=\"stroke:blue;stroke-width:4\"/><line x1=\"380.0\" y1=\"230.0\" x2=\"380.0\" y2=\"70.0\" stroke-linecap=\"round\" style=\"stroke:blue;stroke-width:4\"/><line x1=\"380.0\" y1=\"70.0\" x2=\"225.0\" y2=\"70.0\" stroke-linecap=\"round\" style=\"stroke:blue;stroke-width:4\"/><line x1=\"225.0\" y1=\"70.0\" x2=\"225.0\" y2=\"220.0\" stroke-linecap=\"round\" style=\"stroke:blue;stroke-width:4\"/><line x1=\"225.0\" y1=\"220.0\" x2=\"370.0\" y2=\"220.0\" stroke-linecap=\"round\" style=\"stroke:blue;stroke-width:4\"/><line x1=\"370.0\" y1=\"220.0\" x2=\"370.0\" y2=\"80.0\" stroke-linecap=\"round\" style=\"stroke:blue;stroke-width:4\"/><line x1=\"370.0\" y1=\"80.0\" x2=\"235.0\" y2=\"80.0\" stroke-linecap=\"round\" style=\"stroke:blue;stroke-width:4\"/><line x1=\"235.0\" y1=\"80.0\" x2=\"235.0\" y2=\"210.0\" stroke-linecap=\"round\" style=\"stroke:blue;stroke-width:4\"/><line x1=\"235.0\" y1=\"210.0\" x2=\"360.0\" y2=\"210.0\" stroke-linecap=\"round\" style=\"stroke:blue;stroke-width:4\"/><line x1=\"360.0\" y1=\"210.0\" x2=\"360.0\" y2=\"90.0\" stroke-linecap=\"round\" style=\"stroke:blue;stroke-width:4\"/><line x1=\"360.0\" y1=\"90.0\" x2=\"245.0\" y2=\"90.0\" stroke-linecap=\"round\" style=\"stroke:blue;stroke-width:4\"/><line x1=\"245.0\" y1=\"90.0\" x2=\"245.0\" y2=\"200.0\" stroke-linecap=\"round\" style=\"stroke:blue;stroke-width:4\"/><line x1=\"245.0\" y1=\"200.0\" x2=\"350.0\" y2=\"200.0\" stroke-linecap=\"round\" style=\"stroke:blue;stroke-width:4\"/><line x1=\"350.0\" y1=\"200.0\" x2=\"350.0\" y2=\"100.0\" stroke-linecap=\"round\" style=\"stroke:blue;stroke-width:4\"/><line x1=\"350.0\" y1=\"100.0\" x2=\"255.0\" y2=\"100.0\" stroke-linecap=\"round\" style=\"stroke:blue;stroke-width:4\"/><line x1=\"255.0\" y1=\"100.0\" x2=\"255.0\" y2=\"190.0\" stroke-linecap=\"round\" style=\"stroke:blue;stroke-width:4\"/><line x1=\"255.0\" y1=\"190.0\" x2=\"340.0\" y2=\"190.0\" stroke-linecap=\"round\" style=\"stroke:blue;stroke-width:4\"/><line x1=\"340.0\" y1=\"190.0\" x2=\"340.0\" y2=\"110.0\" stroke-linecap=\"round\" style=\"stroke:blue;stroke-width:4\"/><line x1=\"340.0\" y1=\"110.0\" x2=\"265.0\" y2=\"110.0\" stroke-linecap=\"round\" style=\"stroke:blue;stroke-width:4\"/><line x1=\"265.0\" y1=\"110.0\" x2=\"265.0\" y2=\"180.0\" stroke-linecap=\"round\" style=\"stroke:blue;stroke-width:4\"/><line x1=\"265.0\" y1=\"180.0\" x2=\"330.0\" y2=\"180.0\" stroke-linecap=\"round\" style=\"stroke:blue;stroke-width:4\"/><line x1=\"330.0\" y1=\"180.0\" x2=\"330.0\" y2=\"120.0\" stroke-linecap=\"round\" style=\"stroke:blue;stroke-width:4\"/><line x1=\"330.0\" y1=\"120.0\" x2=\"275.0\" y2=\"120.0\" stroke-linecap=\"round\" style=\"stroke:blue;stroke-width:4\"/><line x1=\"275.0\" y1=\"120.0\" x2=\"275.0\" y2=\"170.0\" stroke-linecap=\"round\" style=\"stroke:blue;stroke-width:4\"/><line x1=\"275.0\" y1=\"170.0\" x2=\"320.0\" y2=\"170.0\" stroke-linecap=\"round\" style=\"stroke:blue;stroke-width:4\"/>\n",
       "        <g visibility=visible transform=\"rotate(360,320.0,170.0) translate(302.0, 152.0)\">\n",
       "<path style=\" stroke:none;fill-rule:evenodd;fill:blue;fill-opacity:1;\" d=\"M 18.214844 0.632812 C 16.109375 1.800781 15.011719 4.074219 15.074219 7.132812 L 15.085938 7.652344 L 14.785156 7.496094 C 13.476562 6.824219 11.957031 6.671875 10.40625 7.066406 C 8.46875 7.550781 6.515625 9.15625 4.394531 11.992188 C 3.0625 13.777344 2.679688 14.636719 3.042969 15.027344 L 3.15625 15.152344 L 3.519531 15.152344 C 4.238281 15.152344 4.828125 14.886719 8.1875 13.039062 C 9.386719 12.378906 10.371094 11.839844 10.378906 11.839844 C 10.386719 11.839844 10.355469 11.929688 10.304688 12.035156 C 9.832031 13.09375 9.257812 14.820312 8.96875 16.078125 C 7.914062 20.652344 8.617188 24.53125 11.070312 27.660156 C 11.351562 28.015625 11.363281 27.914062 10.972656 28.382812 C 8.925781 30.84375 7.945312 33.28125 8.238281 35.1875 C 8.289062 35.527344 8.28125 35.523438 8.917969 35.523438 C 10.941406 35.523438 13.074219 34.207031 15.136719 31.6875 C 15.359375 31.417969 15.328125 31.425781 15.5625 31.574219 C 16.292969 32.042969 18.023438 32.964844 18.175781 32.964844 C 18.335938 32.964844 19.941406 32.210938 20.828125 31.71875 C 20.996094 31.625 21.136719 31.554688 21.136719 31.558594 C 21.203125 31.664062 21.898438 32.414062 22.222656 32.730469 C 23.835938 34.300781 25.5625 35.132812 27.582031 35.300781 C 27.90625 35.328125 27.9375 35.308594 28.007812 34.984375 C 28.382812 33.242188 27.625 30.925781 25.863281 28.425781 L 25.542969 27.96875 L 25.699219 27.785156 C 28.945312 23.960938 29.132812 18.699219 26.257812 11.96875 L 26.207031 11.84375 L 27.945312 12.703125 C 31.53125 14.476562 32.316406 14.800781 33.03125 14.800781 C 33.976562 14.800781 33.78125 13.9375 32.472656 12.292969 C 28.519531 7.355469 25.394531 5.925781 21.921875 7.472656 L 21.558594 7.636719 L 21.578125 7.542969 C 21.699219 6.992188 21.761719 5.742188 21.699219 5.164062 C 21.496094 3.296875 20.664062 1.964844 19.003906 0.855469 C 18.480469 0.503906 18.457031 0.5 18.214844 0.632812\"/>\n",
       "</g>\n",
       "      </svg>\n",
       "    "
      ],
      "text/plain": [
       "<IPython.core.display.HTML object>"
      ]
     },
     "metadata": {},
     "output_type": "display_data"
    }
   ],
   "source": [
    "##\n",
    "## Square Spirals Outside - In\n",
    "##\n",
    "!pip install ColabTurtle\n",
    "from ColabTurtle.Turtle import *\n",
    "initializeTurtle()\n",
    "##\n",
    "speed=13\n",
    "clear()\n",
    "\n",
    "bgcolor(\"LightGreen\")\n",
    "color(\"Blue\")\n",
    " \n",
    "def sqrfunc(size):\n",
    "    for i in range(4):\n",
    "        fd(size)\n",
    "        left(90)\n",
    "        size = size-5\n",
    " \n",
    "for i in range(200,0,-20):\n",
    "    sqrfunc(i)"
   ]
  },
  {
   "cell_type": "code",
   "execution_count": 15,
   "id": "073469e5",
   "metadata": {},
   "outputs": [
    {
     "name": "stdout",
     "output_type": "stream",
     "text": [
      "Requirement already satisfied: ColabTurtle in c:\\users\\najam\\anaconda3\\lib\\site-packages (2.1.0)\n"
     ]
    },
    {
     "data": {
      "text/html": [
       "\n",
       "      <svg width=\"800\" height=\"500\">\n",
       "        <rect width=\"100%\" height=\"100%\" fill=\"lightgreen\"/>\n",
       "        <line x1=\"450.0\" y1=\"300.0\" x2=\"450.0\" y2=\"100.0\" stroke-linecap=\"round\" style=\"stroke:blue;stroke-width:4\"/><line x1=\"450.0\" y1=\"100.0\" x2=\"255.0\" y2=\"100.0\" stroke-linecap=\"round\" style=\"stroke:blue;stroke-width:4\"/><line x1=\"255.0\" y1=\"100.0\" x2=\"255.0\" y2=\"290.0\" stroke-linecap=\"round\" style=\"stroke:blue;stroke-width:4\"/><line x1=\"255.0\" y1=\"290.0\" x2=\"440.0\" y2=\"290.0\" stroke-linecap=\"round\" style=\"stroke:blue;stroke-width:4\"/><line x1=\"440.0\" y1=\"290.0\" x2=\"440.0\" y2=\"110.0\" stroke-linecap=\"round\" style=\"stroke:blue;stroke-width:4\"/><line x1=\"440.0\" y1=\"110.0\" x2=\"265.0\" y2=\"110.0\" stroke-linecap=\"round\" style=\"stroke:blue;stroke-width:4\"/><line x1=\"265.0\" y1=\"110.0\" x2=\"265.0\" y2=\"280.0\" stroke-linecap=\"round\" style=\"stroke:blue;stroke-width:4\"/><line x1=\"265.0\" y1=\"280.0\" x2=\"430.0\" y2=\"280.0\" stroke-linecap=\"round\" style=\"stroke:blue;stroke-width:4\"/><line x1=\"430.0\" y1=\"280.0\" x2=\"430.0\" y2=\"120.0\" stroke-linecap=\"round\" style=\"stroke:blue;stroke-width:4\"/><line x1=\"430.0\" y1=\"120.0\" x2=\"275.0\" y2=\"120.0\" stroke-linecap=\"round\" style=\"stroke:blue;stroke-width:4\"/><line x1=\"275.0\" y1=\"120.0\" x2=\"275.0\" y2=\"270.0\" stroke-linecap=\"round\" style=\"stroke:blue;stroke-width:4\"/><line x1=\"275.0\" y1=\"270.0\" x2=\"420.0\" y2=\"270.0\" stroke-linecap=\"round\" style=\"stroke:blue;stroke-width:4\"/><line x1=\"420.0\" y1=\"270.0\" x2=\"420.0\" y2=\"130.0\" stroke-linecap=\"round\" style=\"stroke:blue;stroke-width:4\"/><line x1=\"420.0\" y1=\"130.0\" x2=\"285.0\" y2=\"130.0\" stroke-linecap=\"round\" style=\"stroke:blue;stroke-width:4\"/><line x1=\"285.0\" y1=\"130.0\" x2=\"285.0\" y2=\"260.0\" stroke-linecap=\"round\" style=\"stroke:blue;stroke-width:4\"/><line x1=\"285.0\" y1=\"260.0\" x2=\"410.0\" y2=\"260.0\" stroke-linecap=\"round\" style=\"stroke:blue;stroke-width:4\"/><line x1=\"410.0\" y1=\"260.0\" x2=\"410.0\" y2=\"140.0\" stroke-linecap=\"round\" style=\"stroke:blue;stroke-width:4\"/><line x1=\"410.0\" y1=\"140.0\" x2=\"295.0\" y2=\"140.0\" stroke-linecap=\"round\" style=\"stroke:blue;stroke-width:4\"/><line x1=\"295.0\" y1=\"140.0\" x2=\"295.0\" y2=\"250.0\" stroke-linecap=\"round\" style=\"stroke:blue;stroke-width:4\"/><line x1=\"295.0\" y1=\"250.0\" x2=\"400.0\" y2=\"250.0\" stroke-linecap=\"round\" style=\"stroke:blue;stroke-width:4\"/><line x1=\"400.0\" y1=\"250.0\" x2=\"400.0\" y2=\"150.0\" stroke-linecap=\"round\" style=\"stroke:blue;stroke-width:4\"/><line x1=\"400.0\" y1=\"150.0\" x2=\"305.0\" y2=\"150.0\" stroke-linecap=\"round\" style=\"stroke:blue;stroke-width:4\"/><line x1=\"305.0\" y1=\"150.0\" x2=\"305.0\" y2=\"240.0\" stroke-linecap=\"round\" style=\"stroke:blue;stroke-width:4\"/><line x1=\"305.0\" y1=\"240.0\" x2=\"390.0\" y2=\"240.0\" stroke-linecap=\"round\" style=\"stroke:blue;stroke-width:4\"/><line x1=\"390.0\" y1=\"240.0\" x2=\"390.0\" y2=\"160.0\" stroke-linecap=\"round\" style=\"stroke:blue;stroke-width:4\"/><line x1=\"390.0\" y1=\"160.0\" x2=\"315.0\" y2=\"160.0\" stroke-linecap=\"round\" style=\"stroke:blue;stroke-width:4\"/><line x1=\"315.0\" y1=\"160.0\" x2=\"315.0\" y2=\"230.0\" stroke-linecap=\"round\" style=\"stroke:blue;stroke-width:4\"/><line x1=\"315.0\" y1=\"230.0\" x2=\"380.0\" y2=\"230.0\" stroke-linecap=\"round\" style=\"stroke:blue;stroke-width:4\"/><line x1=\"380.0\" y1=\"230.0\" x2=\"380.0\" y2=\"170.0\" stroke-linecap=\"round\" style=\"stroke:blue;stroke-width:4\"/><line x1=\"380.0\" y1=\"170.0\" x2=\"325.0\" y2=\"170.0\" stroke-linecap=\"round\" style=\"stroke:blue;stroke-width:4\"/><line x1=\"325.0\" y1=\"170.0\" x2=\"325.0\" y2=\"220.0\" stroke-linecap=\"round\" style=\"stroke:blue;stroke-width:4\"/><line x1=\"325.0\" y1=\"220.0\" x2=\"370.0\" y2=\"220.0\" stroke-linecap=\"round\" style=\"stroke:blue;stroke-width:4\"/>\n",
       "        <g visibility=visible transform=\"rotate(360,370.0,220.0) translate(352.0, 202.0)\">\n",
       "<path style=\" stroke:none;fill-rule:evenodd;fill:blue;fill-opacity:1;\" d=\"M 18.214844 0.632812 C 16.109375 1.800781 15.011719 4.074219 15.074219 7.132812 L 15.085938 7.652344 L 14.785156 7.496094 C 13.476562 6.824219 11.957031 6.671875 10.40625 7.066406 C 8.46875 7.550781 6.515625 9.15625 4.394531 11.992188 C 3.0625 13.777344 2.679688 14.636719 3.042969 15.027344 L 3.15625 15.152344 L 3.519531 15.152344 C 4.238281 15.152344 4.828125 14.886719 8.1875 13.039062 C 9.386719 12.378906 10.371094 11.839844 10.378906 11.839844 C 10.386719 11.839844 10.355469 11.929688 10.304688 12.035156 C 9.832031 13.09375 9.257812 14.820312 8.96875 16.078125 C 7.914062 20.652344 8.617188 24.53125 11.070312 27.660156 C 11.351562 28.015625 11.363281 27.914062 10.972656 28.382812 C 8.925781 30.84375 7.945312 33.28125 8.238281 35.1875 C 8.289062 35.527344 8.28125 35.523438 8.917969 35.523438 C 10.941406 35.523438 13.074219 34.207031 15.136719 31.6875 C 15.359375 31.417969 15.328125 31.425781 15.5625 31.574219 C 16.292969 32.042969 18.023438 32.964844 18.175781 32.964844 C 18.335938 32.964844 19.941406 32.210938 20.828125 31.71875 C 20.996094 31.625 21.136719 31.554688 21.136719 31.558594 C 21.203125 31.664062 21.898438 32.414062 22.222656 32.730469 C 23.835938 34.300781 25.5625 35.132812 27.582031 35.300781 C 27.90625 35.328125 27.9375 35.308594 28.007812 34.984375 C 28.382812 33.242188 27.625 30.925781 25.863281 28.425781 L 25.542969 27.96875 L 25.699219 27.785156 C 28.945312 23.960938 29.132812 18.699219 26.257812 11.96875 L 26.207031 11.84375 L 27.945312 12.703125 C 31.53125 14.476562 32.316406 14.800781 33.03125 14.800781 C 33.976562 14.800781 33.78125 13.9375 32.472656 12.292969 C 28.519531 7.355469 25.394531 5.925781 21.921875 7.472656 L 21.558594 7.636719 L 21.578125 7.542969 C 21.699219 6.992188 21.761719 5.742188 21.699219 5.164062 C 21.496094 3.296875 20.664062 1.964844 19.003906 0.855469 C 18.480469 0.503906 18.457031 0.5 18.214844 0.632812\"/>\n",
       "</g>\n",
       "      </svg>\n",
       "    "
      ],
      "text/plain": [
       "<IPython.core.display.HTML object>"
      ]
     },
     "metadata": {},
     "output_type": "display_data"
    },
    {
     "name": "stdout",
     "output_type": "stream",
     "text": [
      "10\n",
      "15\n",
      "20\n",
      "25\n",
      "30\n",
      "35\n",
      "40\n",
      "45\n",
      "50\n",
      "55\n",
      "60\n",
      "65\n",
      "70\n",
      "75\n",
      "80\n",
      "85\n",
      "90\n",
      "95\n",
      "100\n",
      "105\n"
     ]
    }
   ],
   "source": [
    "##\n",
    "## Square Spirals Inside-out\n",
    "##\n",
    "!pip install ColabTurtle\n",
    "from ColabTurtle.Turtle import *\n",
    "initializeTurtle()\n",
    "\n",
    "speed=100\n",
    "clear()\n",
    "\n",
    "bgcolor(\"LightGreen\")\n",
    "color(\"Blue\")\n",
    "\n",
    "def sqrfunc(size):\n",
    "    for i in range(4):\n",
    "        #print(size)\n",
    "        fd(size)\n",
    "        left(90)\n",
    "        size = size+5\n",
    "        \n",
    "        \n",
    " \n",
    "for i in range(0,200,20):\n",
    "    sqrfunc(i)\n"
   ]
  },
  {
   "cell_type": "code",
   "execution_count": 4,
   "id": "6daf393b",
   "metadata": {},
   "outputs": [
    {
     "name": "stdout",
     "output_type": "stream",
     "text": [
      "This program draws shapes based on the number you enter in a uniform pattern.\n",
      "Enter the side number of the shape you want to draw: 10\n"
     ]
    },
    {
     "ename": "Terminator",
     "evalue": "",
     "output_type": "error",
     "traceback": [
      "\u001b[1;31m---------------------------------------------------------------------------\u001b[0m",
      "\u001b[1;31mTerminator\u001b[0m                                Traceback (most recent call last)",
      "\u001b[1;32m<ipython-input-4-f343ed39fe82>\u001b[0m in \u001b[0;36m<module>\u001b[1;34m\u001b[0m\n\u001b[0;32m     17\u001b[0m \u001b[0mx\u001b[0m \u001b[1;33m=\u001b[0m \u001b[1;36m0\u001b[0m\u001b[1;33m\u001b[0m\u001b[1;33m\u001b[0m\u001b[0m\n\u001b[0;32m     18\u001b[0m \u001b[0my\u001b[0m \u001b[1;33m=\u001b[0m \u001b[1;36m0\u001b[0m\u001b[1;33m\u001b[0m\u001b[1;33m\u001b[0m\u001b[0m\n\u001b[1;32m---> 19\u001b[1;33m \u001b[0mturtle\u001b[0m\u001b[1;33m.\u001b[0m\u001b[0msetpos\u001b[0m\u001b[1;33m(\u001b[0m\u001b[0mx\u001b[0m\u001b[1;33m,\u001b[0m \u001b[0my\u001b[0m\u001b[1;33m)\u001b[0m\u001b[1;33m\u001b[0m\u001b[1;33m\u001b[0m\u001b[0m\n\u001b[0m\u001b[0;32m     20\u001b[0m \u001b[1;33m\u001b[0m\u001b[0m\n\u001b[0;32m     21\u001b[0m \u001b[1;33m\u001b[0m\u001b[0m\n",
      "\u001b[1;32m~\\anaconda3\\lib\\turtle.py\u001b[0m in \u001b[0;36msetpos\u001b[1;34m(x, y)\u001b[0m\n",
      "\u001b[1;31mTerminator\u001b[0m: "
     ]
    }
   ],
   "source": [
    "# Python program to user input pattern\n",
    "# using Turtle Programming\n",
    "import turtle   #Outside_In\n",
    "import turtle\n",
    "import time\n",
    "import random\n",
    " \n",
    "print (\"This program draws shapes based on the number you enter in a uniform pattern.\")\n",
    "num_str = input(\"Enter the side number of the shape you want to draw: \")\n",
    "if num_str.isdigit():\n",
    "    squares = int(num_str)\n",
    " \n",
    "angle = 180 - 180*(squares-2)/squares\n",
    " \n",
    "turtle.up\n",
    " \n",
    "x = 0\n",
    "y = 0\n",
    "turtle.setpos(x, y)\n",
    " \n",
    " \n",
    "numshapes = 8\n",
    "for x in range(numshapes):\n",
    "    turtle.color(random.random(), random.random(), random.random())\n",
    "    x += 5\n",
    "    y += 5\n",
    "    turtle.forward(x)\n",
    "    turtle.left(y)\n",
    "    for i in range(squares):\n",
    "        turtle.begin_fill()\n",
    "        turtle.down()\n",
    "        turtle.forward(40)\n",
    "        turtle.left(angle)\n",
    "        turtle.forward(40)\n",
    "        print (turtle.pos())\n",
    "        turtle.up()\n",
    "        turtle.end_fill()\n",
    " \n",
    "time.sleep(11)\n",
    "turtle.bye()"
   ]
  },
  {
   "cell_type": "code",
   "execution_count": 5,
   "id": "72d3988b",
   "metadata": {},
   "outputs": [],
   "source": [
    "speed=20"
   ]
  },
  {
   "cell_type": "code",
   "execution_count": 18,
   "id": "b4fb6421",
   "metadata": {},
   "outputs": [
    {
     "name": "stdout",
     "output_type": "stream",
     "text": [
      "<module 'ntpath' from 'C:\\\\Users\\\\Najam\\\\anaconda3\\\\lib\\\\ntpath.py'>\n"
     ]
    }
   ],
   "source": [
    "import os\n",
    "print(os.path)"
   ]
  },
  {
   "cell_type": "code",
   "execution_count": 19,
   "id": "229c76d1",
   "metadata": {},
   "outputs": [
    {
     "data": {
      "text/plain": [
       "'D:\\\\NDS Academy\\\\DataScience\\\\PythonBasics'"
      ]
     },
     "execution_count": 19,
     "metadata": {},
     "output_type": "execute_result"
    }
   ],
   "source": [
    "os.getcwd()"
   ]
  },
  {
   "cell_type": "code",
   "execution_count": null,
   "id": "38914429",
   "metadata": {},
   "outputs": [],
   "source": []
  }
 ],
 "metadata": {
  "kernelspec": {
   "display_name": "Python 3",
   "language": "python",
   "name": "python3"
  },
  "language_info": {
   "codemirror_mode": {
    "name": "ipython",
    "version": 3
   },
   "file_extension": ".py",
   "mimetype": "text/x-python",
   "name": "python",
   "nbconvert_exporter": "python",
   "pygments_lexer": "ipython3",
   "version": "3.8.8"
  }
 },
 "nbformat": 4,
 "nbformat_minor": 5
}
